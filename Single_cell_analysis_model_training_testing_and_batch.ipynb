{
  "cells": [
    {
      "cell_type": "markdown",
      "metadata": {
        "id": "view-in-github",
        "colab_type": "text"
      },
      "source": [
        "<a href=\"https://colab.research.google.com/github/saritsauer/WallStreetBets/blob/main/Single_cell_analysis_model_training_testing_and_batch.ipynb\" target=\"_parent\"><img src=\"https://colab.research.google.com/assets/colab-badge.svg\" alt=\"Open In Colab\"/></a>"
      ]
    },
    {
      "cell_type": "markdown",
      "source": [
        "Author information:\n",
        "Yoel Goldstein, Lab of Prof. Ofra Benny\n",
        "Hebrew University, School of Pharmacy\n",
        "\n",
        "This code uses FACS data to evaluate the ability to classify between cancer call population with different phenotypes at the single cell level.\n",
        "\n",
        "The code is generic and can be used for all cell lines. The current code uses H460 cell types as en example.\n",
        "\n",
        "Once the models are trained they are saved as a pickle.\n",
        "\n",
        "Code description:\n",
        "*   Requires file directory pointing to a folder containing raw .csv files\n",
        "*   Includes preprocessing of the raw data: cleaning, log transformation, and normalization.  \n",
        "*   Three datasets are analyzed: only cell size(FSC) and granularity(SSC) parameter, only particle uptake parameters, and all the parameters combined.  \n",
        "*   The code includes Random forest, XGBoost and SVM classifiers and study their performance in classifying between two cell subpopulations.\n",
        "*   Unseen data as a second blind test (Batch data)\n",
        "*   PCA based dimeention reduction and its effect on the performances\n",
        "*   Statistical analysis (t-test between models)\n",
        "*   ROC curve and AUC analysis\n",
        "\n",
        "\n",
        "\n"
      ],
      "metadata": {
        "id": "0J-E-II4DnM-"
      }
    },
    {
      "cell_type": "code",
      "execution_count": null,
      "metadata": {
        "colab": {
          "base_uri": "https://localhost:8080/"
        },
        "id": "4YJUP9cmNiV5",
        "outputId": "1f7c4dab-0211-401d-b05e-a1aab4c9393e"
      },
      "outputs": [
        {
          "output_type": "stream",
          "name": "stdout",
          "text": [
            "Collecting eli5\n",
            "  Downloading eli5-0.13.0.tar.gz (216 kB)\n",
            "\u001b[2K     \u001b[90m━━━━━━━━━━━━━━━━━━━━━━━━━━━━━━━━━━━━━━━━\u001b[0m \u001b[32m216.2/216.2 kB\u001b[0m \u001b[31m2.0 MB/s\u001b[0m eta \u001b[36m0:00:00\u001b[0m\n",
            "\u001b[?25h  Preparing metadata (setup.py) ... \u001b[?25l\u001b[?25hdone\n",
            "Requirement already satisfied: attrs>17.1.0 in /usr/local/lib/python3.10/dist-packages (from eli5) (23.1.0)\n",
            "Requirement already satisfied: jinja2>=3.0.0 in /usr/local/lib/python3.10/dist-packages (from eli5) (3.1.2)\n",
            "Requirement already satisfied: numpy>=1.9.0 in /usr/local/lib/python3.10/dist-packages (from eli5) (1.23.5)\n",
            "Requirement already satisfied: scipy in /usr/local/lib/python3.10/dist-packages (from eli5) (1.11.4)\n",
            "Requirement already satisfied: six in /usr/local/lib/python3.10/dist-packages (from eli5) (1.16.0)\n",
            "Requirement already satisfied: scikit-learn>=0.20 in /usr/local/lib/python3.10/dist-packages (from eli5) (1.2.2)\n",
            "Requirement already satisfied: graphviz in /usr/local/lib/python3.10/dist-packages (from eli5) (0.20.1)\n",
            "Requirement already satisfied: tabulate>=0.7.7 in /usr/local/lib/python3.10/dist-packages (from eli5) (0.9.0)\n",
            "Requirement already satisfied: MarkupSafe>=2.0 in /usr/local/lib/python3.10/dist-packages (from jinja2>=3.0.0->eli5) (2.1.3)\n",
            "Requirement already satisfied: joblib>=1.1.1 in /usr/local/lib/python3.10/dist-packages (from scikit-learn>=0.20->eli5) (1.3.2)\n",
            "Requirement already satisfied: threadpoolctl>=2.0.0 in /usr/local/lib/python3.10/dist-packages (from scikit-learn>=0.20->eli5) (3.2.0)\n",
            "Building wheels for collected packages: eli5\n",
            "  Building wheel for eli5 (setup.py) ... \u001b[?25l\u001b[?25hdone\n",
            "  Created wheel for eli5: filename=eli5-0.13.0-py2.py3-none-any.whl size=107717 sha256=b15411a191b668e5b720913aa2802bbb0fa5bbeff5d3aaa523c4061959c46bba\n",
            "  Stored in directory: /root/.cache/pip/wheels/b8/58/ef/2cf4c306898c2338d51540e0922c8e0d6028e07007085c0004\n",
            "Successfully built eli5\n",
            "Installing collected packages: eli5\n",
            "Successfully installed eli5-0.13.0\n"
          ]
        }
      ],
      "source": [
        "pip install eli5"
      ]
    },
    {
      "cell_type": "code",
      "execution_count": null,
      "metadata": {
        "id": "c986ikivNQqA"
      },
      "outputs": [],
      "source": [
        "#import FlowCal\n",
        "import pandas as pd\n",
        "import numpy as np\n",
        "import eli5\n",
        "import matplotlib.pyplot as plt\n",
        "import seaborn as sns\n",
        "import pickle\n",
        "\n",
        "from pathlib import Path\n",
        "from pandas import DataFrame\n",
        "from pylab import *\n",
        "from google.colab import drive\n",
        "from collections import Counter\n",
        "from functools import reduce\n",
        "from eli5.sklearn import PermutationImportance\n",
        "from xgboost import XGBClassifier\n",
        "\n",
        "from sklearn.metrics import confusion_matrix\n",
        "from sklearn.svm import LinearSVC\n",
        "from sklearn import svm\n",
        "from sklearn.model_selection import GroupKFold\n",
        "from sklearn.preprocessing import MinMaxScaler\n",
        "from sklearn.decomposition import PCA\n",
        "from sklearn import preprocessing\n",
        "from sklearn.utils import shuffle\n",
        "from sklearn.metrics import classification_report\n",
        "from sklearn.model_selection import train_test_split\n",
        "from sklearn.ensemble import RandomForestClassifier\n",
        "from sklearn.metrics import accuracy_score\n",
        "from sklearn.model_selection import cross_val_score\n",
        "from sklearn.model_selection import cross_val_predict\n",
        "from sklearn.model_selection import GroupKFold\n",
        "from sklearn.model_selection import RandomizedSearchCV\n",
        "\n",
        "\n",
        "scaler = MinMaxScaler()\n",
        "sns.set_style('white')"
      ]
    },
    {
      "cell_type": "code",
      "execution_count": null,
      "metadata": {
        "colab": {
          "base_uri": "https://localhost:8080/"
        },
        "id": "wzPccj3jNXCf",
        "outputId": "ff469f4d-1040-48d9-ac48-ae8021095011"
      },
      "outputs": [
        {
          "output_type": "stream",
          "name": "stdout",
          "text": [
            "Mounted at /content/drive\n"
          ]
        }
      ],
      "source": [
        "drive.mount('/content/drive')\n",
        "\n",
        "data_path = r'' # enter the path where the data stored in\n",
        "\n",
        "# H460 csv files\n",
        "df_1_H460 = pd.read_csv(data_path +'H460_1.csv')\n",
        "df_2_H460 = pd.read_csv(data_path +'H460_2.csv')\n",
        "df_3_H460 = pd.read_csv(data_path +'H460_3.csv')\n",
        "df_4_H460 = pd.read_csv(data_path +'H460_4.csv')\n",
        "df_5_H460 = pd.read_csv(data_path +'H460_5.csv')\n",
        "df_6_H460 = pd.read_csv(data_path +'H460_6.csv')\n",
        "df_7_H460 = pd.read_csv(data_path +'H460_7.csv')\n",
        "df_8_H460 = pd.read_csv(data_path +'H460_8.csv')\n",
        "df_9_H460 = pd.read_csv(data_path +'H460_9.csv')\n",
        "df_10_H460 = pd.read_csv(data_path +'H460_10.csv')\n",
        "df_11_H460 = pd.read_csv(data_path +'H460_11.csv')\n",
        "df_12_H460 = pd.read_csv(data_path +'H460_12.csv')\n",
        "df_13_H460 = pd.read_csv(data_path +'H460_13.csv')\n",
        "df_14_H460 = pd.read_csv(data_path +'H460_14.csv')\n",
        "df_15_H460 = pd.read_csv(data_path +'H460_15.csv')\n",
        "df_16_H460 = pd.read_csv(data_path +'H460_16.csv')\n",
        "df_17_H460 = pd.read_csv(data_path +'H460_17.csv')\n",
        "df_18_H460 = pd.read_csv(data_path +'H460_18.csv')\n",
        "df_19_H460 = pd.read_csv(data_path +'H460_19.csv')\n",
        "df_20_H460 = pd.read_csv(data_path +'H460_20.csv')\n",
        "\n",
        "# H460 cis-res csv files\n",
        "df_1_H460_cis_res = pd.read_csv(data_path +'H460_cis_res_1.csv')\n",
        "df_2_H460_cis_res = pd.read_csv(data_path +'H460_cis_res_2.csv')\n",
        "df_3_H460_cis_res = pd.read_csv(data_path +'H460_cis_res_3.csv')\n",
        "df_4_H460_cis_res = pd.read_csv(data_path +'H460_cis_res_4.csv')\n",
        "df_5_H460_cis_res = pd.read_csv(data_path +'H460_cis_res_5.csv')\n",
        "df_6_H460_cis_res = pd.read_csv(data_path +'H460_cis_res_6.csv')\n",
        "df_7_H460_cis_res = pd.read_csv(data_path +'H460_cis_res_7.csv')\n",
        "df_8_H460_cis_res = pd.read_csv(data_path +'H460_cis_res_8.csv')\n",
        "df_9_H460_cis_res = pd.read_csv(data_path +'H460_cis_res_9.csv')\n",
        "df_10_H460_cis_res = pd.read_csv(data_path +'H460_cis_res_10.csv')\n",
        "df_11_H460_cis_res = pd.read_csv(data_path +'H460_cis_res_11.csv')\n",
        "df_12_H460_cis_res = pd.read_csv(data_path +'H460_cis_res_12.csv')\n",
        "df_13_H460_cis_res = pd.read_csv(data_path +'H460_cis_res_13.csv')\n",
        "df_14_H460_cis_res = pd.read_csv(data_path +'H460_cis_res_14.csv')\n",
        "df_15_H460_cis_res = pd.read_csv(data_path +'H460_cis_res_15.csv')\n",
        "df_16_H460_cis_res = pd.read_csv(data_path +'H460_cis_res_16.csv')\n",
        "df_17_H460_cis_res = pd.read_csv(data_path +'H460_cis_res_17.csv')\n",
        "df_18_H460_cis_res = pd.read_csv(data_path +'H460_cis_res_18.csv')\n",
        "df_19_H460_cis_res = pd.read_csv(data_path +'H460_cis_res_19.csv')\n",
        "df_20_H460_cis_res = pd.read_csv(data_path +'H460_cis_res_20.csv')\n",
        "\n",
        "# H460 csv Batch files\n",
        "Total_H460_batch_log_single = pd.read_csv(data_path +'Total_H460_test_log_single.csv')\n",
        "Total_H460_cis_res_batch_log_single = pd.read_csv(data_path +'Total_H460_cis_res_test_log_single.csv')"
      ]
    },
    {
      "cell_type": "code",
      "execution_count": null,
      "metadata": {
        "id": "wARWBq_pNQqG"
      },
      "outputs": [],
      "source": [
        "# building a function for normalizing the uptake data, by using the 5 intencities and the cell area\n",
        "def normalized_intencity_single (intensity_1, intensity_2, intensity_3, intensity_4, intensity_5, norm):\n",
        "    return pd.Series([intensity_1/norm, intensity_2/norm, intensity_3/norm, intensity_4/norm, intensity_5/norm])"
      ]
    },
    {
      "cell_type": "code",
      "execution_count": null,
      "metadata": {
        "id": "x9EzHogjNQqG"
      },
      "outputs": [],
      "source": [
        "# This function creates a heatmap for the models results.\n",
        "def heatconmat(y_true,y_pred):\n",
        "    sns.set_context('talk')\n",
        "    plt.figure(figsize=(9,6))\n",
        "    sns.heatmap(confusion_matrix(y_true,y_pred),\n",
        "                annot=True,\n",
        "                fmt='d',\n",
        "                cbar=False,\n",
        "                cmap='gist_earth_r',\n",
        "                yticklabels=sorted(y_true.unique()))\n",
        "    plt.show()\n",
        "    print(classification_report(y_true,y_pred))"
      ]
    },
    {
      "cell_type": "code",
      "execution_count": null,
      "metadata": {
        "id": "F6TrFiQ5NQqH"
      },
      "outputs": [],
      "source": [
        "# displaying the training and the validation results\n",
        "def display_classification_results(classifier, X_train, y_train, x_val, y_val):\n",
        "    print('Classifier: {0:s}\\nParameters:'.format(classifier.__class__.__name__))\n",
        "    for k,v in classifier.get_params().items():\n",
        "        print('\\t{0} : {1}'.format(k,v))\n",
        "    training_set_score = classifier.score(X_train,y_train)\n",
        "    print('Testing on TRAINING set: {}'.format(training_set_score))\n",
        "    val_set_score = classifier.score(x_val,y_val)\n",
        "    print('Validation on VALIDATION set: {}'.format(val_set_score))\n",
        "    return (training_set_score,val_set_score)"
      ]
    },
    {
      "cell_type": "markdown",
      "source": [
        "Preparation of data.\n",
        "This step includs:\n",
        "1. data cleaning - based on the preliminary analysis of the raw data we filter out debris and duoblets from the data.\n",
        "2. spliting the data into training and testing datasets\n",
        "3. grouping the individual datasets into one dataset\n",
        "4. renaming the features\n",
        "5. log transformation of the data\n",
        "6. normalizing the data using the cell area\n",
        "7. replacing inf values to zeros\n"
      ],
      "metadata": {
        "id": "eJMifDhwEU93"
      }
    },
    {
      "cell_type": "markdown",
      "source": [
        "Training and testing datasets"
      ],
      "metadata": {
        "id": "3vlQvHk3GIVJ"
      }
    },
    {
      "cell_type": "code",
      "execution_count": null,
      "metadata": {
        "id": "norf3DfbNQqI"
      },
      "outputs": [],
      "source": [
        "# Cleaning the H460 data based on a preliminary analysis\n",
        "\n",
        "df_1_H460 = df_1_H460[df_1_H460['SSC-W']< 135000]\n",
        "df_1_H460 = df_1_H460[df_1_H460['SSC-W']> 70000]\n",
        "df_1_H460 = df_1_H460[df_1_H460['SSC-A']> 10000]\n",
        "\n",
        "df_2_H460 = df_2_H460[df_2_H460['SSC-W']< 135000]\n",
        "df_2_H460 = df_2_H460[df_2_H460['SSC-W']> 70000]\n",
        "df_2_H460 = df_2_H460[df_2_H460['SSC-A']> 10000]\n",
        "\n",
        "df_3_H460 = df_3_H460[df_3_H460['SSC-W']< 135000]\n",
        "df_3_H460 = df_3_H460[df_3_H460['SSC-W']> 70000]\n",
        "df_3_H460 = df_3_H460[df_3_H460['SSC-A']> 10000]\n",
        "\n",
        "df_4_H460 = df_4_H460[df_4_H460['SSC-W']< 135000]\n",
        "df_4_H460 = df_4_H460[df_4_H460['SSC-W']> 70000]\n",
        "df_4_H460 = df_4_H460[df_4_H460['SSC-A']> 10000]\n",
        "\n",
        "df_5_H460 = df_5_H460[df_5_H460['SSC-W']< 135000]\n",
        "df_5_H460 = df_5_H460[df_5_H460['SSC-W']> 70000]\n",
        "df_5_H460 = df_5_H460[df_5_H460['SSC-A']> 10000]\n",
        "\n",
        "df_6_H460 = df_6_H460[df_6_H460['SSC-W']< 135000]\n",
        "df_6_H460 = df_6_H460[df_6_H460['SSC-W']> 70000]\n",
        "df_6_H460 = df_6_H460[df_6_H460['SSC-A']> 10000]\n",
        "\n",
        "df_7_H460 = df_7_H460[df_7_H460['SSC-W']< 135000]\n",
        "df_7_H460 = df_7_H460[df_7_H460['SSC-W']> 70000]\n",
        "df_7_H460 = df_7_H460[df_7_H460['SSC-A']> 10000]\n",
        "\n",
        "df_8_H460 = df_8_H460[df_8_H460['SSC-W']< 135000]\n",
        "df_8_H460 = df_8_H460[df_8_H460['SSC-W']> 70000]\n",
        "df_8_H460 = df_8_H460[df_8_H460['SSC-A']> 10000]\n",
        "\n",
        "df_9_H460 = df_9_H460[df_9_H460['SSC-W']< 135000]\n",
        "df_9_H460 = df_9_H460[df_9_H460['SSC-W']> 70000]\n",
        "df_9_H460 = df_9_H460[df_9_H460['SSC-A']> 10000]\n",
        "\n",
        "df_10_H460 = df_10_H460[df_10_H460['SSC-W']< 135000]\n",
        "df_10_H460 = df_10_H460[df_10_H460['SSC-W']> 70000]\n",
        "df_10_H460 = df_10_H460[df_10_H460['SSC-A']> 10000]\n",
        "\n",
        "df_11_H460 = df_11_H460[df_11_H460['SSC-W']< 135000]\n",
        "df_11_H460 = df_11_H460[df_11_H460['SSC-W']> 70000]\n",
        "df_11_H460 = df_11_H460[df_11_H460['SSC-A']> 10000]\n",
        "\n",
        "df_12_H460 = df_12_H460[df_12_H460['SSC-W']< 135000]\n",
        "df_12_H460 = df_12_H460[df_12_H460['SSC-W']> 70000]\n",
        "df_12_H460 = df_12_H460[df_12_H460['SSC-A']> 10000]\n",
        "\n",
        "df_13_H460 = df_13_H460[df_13_H460['SSC-W']< 135000]\n",
        "df_13_H460 = df_13_H460[df_13_H460['SSC-W']> 70000]\n",
        "df_13_H460 = df_13_H460[df_13_H460['SSC-A']> 10000]\n",
        "\n",
        "df_14_H460 = df_14_H460[df_14_H460['SSC-W']< 135000]\n",
        "df_14_H460 = df_14_H460[df_14_H460['SSC-W']> 70000]\n",
        "df_14_H460 = df_14_H460[df_14_H460['SSC-A']> 10000]\n",
        "\n",
        "df_15_H460 = df_15_H460[df_15_H460['SSC-W']< 135000]\n",
        "df_15_H460 = df_15_H460[df_15_H460['SSC-W']> 70000]\n",
        "df_15_H460 = df_15_H460[df_15_H460['SSC-A']> 10000]\n",
        "\n",
        "df_16_H460 = df_16_H460[df_16_H460['SSC-W']< 135000]\n",
        "df_16_H460 = df_16_H460[df_16_H460['SSC-W']> 70000]\n",
        "df_16_H460 = df_16_H460[df_16_H460['SSC-A']> 10000]\n",
        "\n",
        "df_17_H460 = df_17_H460[df_17_H460['SSC-W']< 135000]\n",
        "df_17_H460 = df_17_H460[df_17_H460['SSC-W']> 70000]\n",
        "df_17_H460 = df_17_H460[df_17_H460['SSC-A']> 10000]\n",
        "\n",
        "df_18_H460 = df_18_H460[df_18_H460['SSC-W']< 135000]\n",
        "df_18_H460 = df_18_H460[df_18_H460['SSC-W']> 70000]\n",
        "df_18_H460 = df_18_H460[df_18_H460['SSC-A']> 10000]\n",
        "\n",
        "df_19_H460 = df_19_H460[df_19_H460['SSC-W']< 135000]\n",
        "df_19_H460 = df_19_H460[df_19_H460['SSC-W']> 70000]\n",
        "df_19_H460 = df_19_H460[df_19_H460['SSC-A']> 10000]\n",
        "\n",
        "df_20_H460 = df_20_H460[df_20_H460['SSC-W']< 135000]\n",
        "df_20_H460 = df_20_H460[df_20_H460['SSC-W']> 70000]\n",
        "df_20_H460 = df_20_H460[df_20_H460['SSC-A']> 10000]\n"
      ]
    },
    {
      "cell_type": "code",
      "execution_count": null,
      "metadata": {
        "id": "g90iZpL6JkmK"
      },
      "outputs": [],
      "source": [
        "# asigning H460 training and testing datasets\n",
        "\n",
        "# list pop 1 training dfs\n",
        "df_list_pop_1_train = [df_1_H460, df_2_H460, df_3_H460, df_4_H460, df_5_H460,\n",
        "          df_6_H460, df_7_H460, df_8_H460, df_9_H460, df_10_H460,\n",
        "          df_1_H460, df_12_H460, df_13_H460, df_14_H460, df_15_H460]\n",
        "\n",
        "group = 1\n",
        "\n",
        "for df in df_list_pop_1_train:\n",
        "    df['group'] = group\n",
        "    group += 1\n",
        "\n",
        "# list pop 1 testing dfs\n",
        "df_list_pop_1_test = [df_16_H460, df_17_H460, df_18_H460, df_19_H460, df_20_H460]"
      ]
    },
    {
      "cell_type": "code",
      "execution_count": null,
      "metadata": {
        "id": "oEhDkHInNQqJ"
      },
      "outputs": [],
      "source": [
        "# Cleaning the H460 cis-res data based on a preliminary analysis\n",
        "\n",
        "df_1_H460_cis_res = df_1_H460_cis_res[df_1_H460_cis_res['SSC-W'] > 75000]\n",
        "df_1_H460_cis_res = df_1_H460_cis_res[df_1_H460_cis_res['SSC-A']> 25000]\n",
        "\n",
        "df_2_H460_cis_res = df_2_H460_cis_res[df_2_H460_cis_res['SSC-W'] > 75000]\n",
        "df_2_H460_cis_res = df_2_H460_cis_res[df_2_H460_cis_res['SSC-A']> 25000]\n",
        "\n",
        "df_3_H460_cis_res = df_3_H460_cis_res[df_3_H460_cis_res['SSC-W'] > 75000]\n",
        "df_3_H460_cis_res = df_3_H460_cis_res[df_3_H460_cis_res['SSC-A']> 25000]\n",
        "\n",
        "df_4_H460_cis_res = df_4_H460_cis_res[df_4_H460_cis_res['SSC-W'] > 75000]\n",
        "df_4_H460_cis_res = df_4_H460_cis_res[df_4_H460_cis_res['SSC-A']> 25000]\n",
        "\n",
        "df_5_H460_cis_res = df_5_H460_cis_res[df_5_H460_cis_res['SSC-W'] > 75000]\n",
        "df_5_H460_cis_res = df_5_H460_cis_res[df_5_H460_cis_res['SSC-A']> 25000]\n",
        "\n",
        "df_6_H460_cis_res = df_6_H460_cis_res[df_6_H460_cis_res['SSC-W'] > 75000]\n",
        "df_6_H460_cis_res = df_6_H460_cis_res[df_6_H460_cis_res['SSC-A']> 25000]\n",
        "\n",
        "df_7_H460_cis_res = df_7_H460_cis_res[df_7_H460_cis_res['SSC-W'] > 75000]\n",
        "df_7_H460_cis_res = df_7_H460_cis_res[df_7_H460_cis_res['SSC-A']> 25000]\n",
        "\n",
        "df_8_H460_cis_res = df_8_H460_cis_res[df_8_H460_cis_res['SSC-W'] > 75000]\n",
        "df_8_H460_cis_res = df_8_H460_cis_res[df_8_H460_cis_res['SSC-A']> 25000]\n",
        "\n",
        "df_9_H460_cis_res = df_9_H460_cis_res[df_9_H460_cis_res['SSC-W'] > 75000]\n",
        "df_9_H460_cis_res = df_9_H460_cis_res[df_9_H460_cis_res['SSC-A']> 25000]\n",
        "\n",
        "df_10_H460_cis_res = df_10_H460_cis_res[df_10_H460_cis_res['SSC-W'] > 75000]\n",
        "df_10_H460_cis_res = df_10_H460_cis_res[df_10_H460_cis_res['SSC-A']> 25000]\n",
        "\n",
        "df_11_H460_cis_res = df_11_H460_cis_res[df_11_H460_cis_res['SSC-W'] > 75000]\n",
        "df_11_H460_cis_res = df_11_H460_cis_res[df_11_H460_cis_res['SSC-A']> 25000]\n",
        "\n",
        "df_12_H460_cis_res = df_12_H460_cis_res[df_12_H460_cis_res['SSC-W'] > 75000]\n",
        "df_12_H460_cis_res = df_12_H460_cis_res[df_12_H460_cis_res['SSC-A']> 25000]\n",
        "\n",
        "df_13_H460_cis_res = df_13_H460_cis_res[df_13_H460_cis_res['SSC-W'] > 75000]\n",
        "df_13_H460_cis_res = df_13_H460_cis_res[df_13_H460_cis_res['SSC-A']> 25000]\n",
        "\n",
        "df_14_H460_cis_res = df_14_H460_cis_res[df_14_H460_cis_res['SSC-W'] > 75000]\n",
        "df_14_H460_cis_res = df_14_H460_cis_res[df_14_H460_cis_res['SSC-A']> 25000]\n",
        "\n",
        "df_15_H460_cis_res = df_15_H460_cis_res[df_15_H460_cis_res['SSC-W'] > 75000]\n",
        "df_15_H460_cis_res = df_15_H460_cis_res[df_15_H460_cis_res['SSC-A']> 25000]\n",
        "\n",
        "df_16_H460_cis_res = df_16_H460_cis_res[df_16_H460_cis_res['SSC-W'] > 75000]\n",
        "df_16_H460_cis_res = df_16_H460_cis_res[df_16_H460_cis_res['SSC-A']> 25000]\n",
        "\n",
        "df_17_H460_cis_res = df_17_H460_cis_res[df_17_H460_cis_res['SSC-W'] > 75000]\n",
        "df_17_H460_cis_res = df_17_H460_cis_res[df_17_H460_cis_res['SSC-A']> 25000]\n",
        "\n",
        "df_18_H460_cis_res = df_18_H460_cis_res[df_18_H460_cis_res['SSC-W'] > 75000]\n",
        "df_18_H460_cis_res = df_18_H460_cis_res[df_18_H460_cis_res['SSC-A']> 25000]\n",
        "\n",
        "df_19_H460_cis_res = df_19_H460_cis_res[df_19_H460_cis_res['SSC-W'] > 75000]\n",
        "df_19_H460_cis_res = df_19_H460_cis_res[df_19_H460_cis_res['SSC-A']> 25000]\n",
        "\n",
        "df_20_H460_cis_res = df_20_H460_cis_res[df_20_H460_cis_res['SSC-W'] > 75000]\n",
        "df_20_H460_cis_res = df_20_H460_cis_res[df_20_H460_cis_res['SSC-A']> 25000]"
      ]
    },
    {
      "cell_type": "code",
      "execution_count": null,
      "metadata": {
        "id": "pk_GEC_eNQqK"
      },
      "outputs": [],
      "source": [
        "# asigning H460 training and testing datasets\n",
        "\n",
        "# list pop 1 training dfs\n",
        "df_list_pop_2_train = [df_1_H460_cis_res, df_2_H460_cis_res, df_3_H460_cis_res, df_4_H460_cis_res, df_5_H460_cis_res,\n",
        "          df_6_H460_cis_res, df_7_H460_cis_res, df_8_H460_cis_res, df_9_H460_cis_res, df_10_H460_cis_res,\n",
        "          df_11_H460_cis_res, df_12_H460_cis_res, df_13_H460_cis_res, df_14_H460_cis_res, df_15_H460_cis_res]\n",
        "\n",
        "for df in df_list_pop_2_train:\n",
        "    df['group'] = group\n",
        "    group += 1\n",
        "\n",
        "# list pop 2 testing dfs\n",
        "df_list_pop_2_test = [df_16_H460_cis_res, df_17_H460_cis_res, df_18_H460_cis_res, df_19_H460_cis_res, df_20_H460_cis_res]"
      ]
    },
    {
      "cell_type": "code",
      "execution_count": null,
      "metadata": {
        "id": "ZKp2npTPNQqK"
      },
      "outputs": [],
      "source": [
        "# merging the datasets into one dataset of training and one dataset of testing for both cell lines\n",
        "\n",
        "# merged df train pop 1\n",
        "Total_pop_1_train = pd.DataFrame()\n",
        "for df in df_list_pop_1_train:\n",
        "    Total_pop_1_train =  pd.concat([Total_pop_1_train, df], ignore_index=True)\n",
        "\n",
        "# merged df test pop 1\n",
        "Total_pop_1_test = pd.DataFrame()\n",
        "for df in df_list_pop_1_test:\n",
        "    Total_pop_1_test =  pd.concat([Total_pop_1_test, df], ignore_index=True)\n",
        "\n",
        "\n",
        "# merged df train pop 2\n",
        "Total_pop_2_train = pd.DataFrame()\n",
        "for df in df_list_pop_2_train:\n",
        "    Total_pop_2_train =  pd.concat([Total_pop_2_train, df], ignore_index=True)\n",
        "\n",
        "# merged df test pop 2\n",
        "Total_pop_2_test = pd.DataFrame()\n",
        "for df in df_list_pop_2_test:\n",
        "    Total_pop_2_test =  pd.concat([Total_pop_2_test, df], ignore_index=True)\n"
      ]
    },
    {
      "cell_type": "code",
      "execution_count": null,
      "metadata": {
        "id": "JV1Tbkq-KZgR"
      },
      "outputs": [],
      "source": [
        "# features renaming\n",
        "\n",
        "# renaming train pop 1\n",
        "Total_pop_1_train.drop(['Unnamed: 0','Time'], axis = 1, inplace = True)\n",
        "Total_pop_1_train.rename(columns={\"FSC-A\": \"FSC_A\", \"FSC-H\": \"FSC_H\", \"FSC-W\": \"FSC_W\", \"SSC-A\": \"SSC_A\",\n",
        "                                  \"SSC-H\": \"SSC_H\", \"SSC-W\": \"SSC_W\", \"BV421-A\": \"BV421_A\", \"FITC-A\": \"FITC_A\",\n",
        "                                  \"PerCP-A\": \"PerCP_A\", \"PE-Texas Red-A\": \"PE_Texas_Red_A\", \"BV421-A\": \"BV421_A\",\n",
        "                                   \"Alexa Fluor 700-A\": \"Alexa_Fluor_700_A\"}, inplace = True)\n",
        "\n",
        "# renaming test pop 1\n",
        "Total_pop_1_test.drop(['Unnamed: 0','Time'], axis = 1, inplace = True)\n",
        "Total_pop_1_test.rename(columns={\"FSC-A\": \"FSC_A\", \"FSC-H\": \"FSC_H\", \"FSC-W\": \"FSC_W\", \"SSC-A\": \"SSC_A\",\n",
        "                                  \"SSC-H\": \"SSC_H\", \"SSC-W\": \"SSC_W\", \"BV421-A\": \"BV421_A\", \"FITC-A\": \"FITC_A\",\n",
        "                                  \"PerCP-A\": \"PerCP_A\", \"PE-Texas Red-A\": \"PE_Texas_Red_A\", \"BV421-A\": \"BV421_A\",\n",
        "                                   \"Alexa Fluor 700-A\": \"Alexa_Fluor_700_A\"}, inplace = True)\n",
        "\n",
        "\n",
        "# renaming train pop 2\n",
        "Total_pop_2_train.drop(['Unnamed: 0','Time'], axis = 1, inplace = True)\n",
        "Total_pop_2_train.rename(columns={\"FSC-A\": \"FSC_A\", \"FSC-H\": \"FSC_H\", \"FSC-W\": \"FSC_W\", \"SSC-A\": \"SSC_A\",\n",
        "                                  \"SSC-H\": \"SSC_H\", \"SSC-W\": \"SSC_W\", \"BV421-A\": \"BV421_A\", \"FITC-A\": \"FITC_A\",\n",
        "                                  \"PerCP-A\": \"PerCP_A\", \"PE-Texas Red-A\": \"PE_Texas_Red_A\", \"BV421-A\": \"BV421_A\",\n",
        "                                   \"Alexa Fluor 700-A\": \"Alexa_Fluor_700_A\"}, inplace = True)\n",
        "\n",
        "# renaming test pop 2\n",
        "Total_pop_2_test.drop(['Unnamed: 0','Time'], axis = 1, inplace = True)\n",
        "Total_pop_2_test.rename(columns={\"FSC-A\": \"FSC_A\", \"FSC-H\": \"FSC_H\", \"FSC-W\": \"FSC_W\", \"SSC-A\": \"SSC_A\",\n",
        "                                  \"SSC-H\": \"SSC_H\", \"SSC-W\": \"SSC_W\", \"BV421-A\": \"BV421_A\", \"FITC-A\": \"FITC_A\",\n",
        "                                  \"PerCP-A\": \"PerCP_A\", \"PE-Texas Red-A\": \"PE_Texas_Red_A\", \"BV421-A\": \"BV421_A\",\n",
        "                                   \"Alexa Fluor 700-A\": \"Alexa_Fluor_700_A\"}, inplace = True)"
      ]
    },
    {
      "cell_type": "code",
      "execution_count": null,
      "metadata": {
        "id": "d8mFa3WsKjh-"
      },
      "outputs": [],
      "source": [
        "# log transformation of the H460 datasets\n",
        "\n",
        "# log transformation train pop 1\n",
        "Total_pop_1_log = Total_pop_1_train.transform(log, channels=['FSC_A','FSC_H', 'FSC_W', 'SSC_A', 'SSC_H', 'SSC_W', 'BV421_A', 'FITC_A','PerCP_A', 'PE_Texas_Red_A', 'Alexa_Fluor_700_A'], b=500.0, inplace = True)\n",
        "Total_pop_1_log.replace([np.inf, -np.inf], np.nan, inplace = True)\n",
        "Total_pop_1_log = Total_pop_1_log.fillna(0)\n",
        "Total_pop_1_log['Cell_line'] = 0\n",
        "Total_pop_1_log.reset_index(inplace = True)\n",
        "Total_pop_1_log['group'] = Total_pop_1_train['group']\n",
        "prefeatured_pop_1 = Total_pop_1_log\n",
        "\n",
        "# log transformation test pop 1\n",
        "Total_pop_1_test_log = Total_pop_1_test.transform(log, channels=['FSC_A','FSC_H', 'FSC_W', 'SSC_A', 'SSC_H', 'SSC_W', 'BV421_A', 'FITC_A','PerCP_A', 'PE_Texas_Red_A', 'Alexa_Fluor_700_A'], b=500.0, inplace = True)\n",
        "Total_pop_1_test_log.replace([np.inf, -np.inf], np.nan, inplace = True)\n",
        "Total_pop_1_test_log = Total_pop_1_test_log.fillna(0)\n",
        "Total_pop_1_test_log['Cell_line'] = 0\n",
        "Total_pop_1_test_log.reset_index(inplace = True)\n",
        "prefeatured_pop_1_test = Total_pop_1_test_log"
      ]
    },
    {
      "cell_type": "code",
      "execution_count": null,
      "metadata": {
        "id": "OnF6i5aBLbjR"
      },
      "outputs": [],
      "source": [
        "# log transformation of the H460 cis-res data sets\n",
        "\n",
        "# log transformation train pop 2\n",
        "Total_pop_2_log = Total_pop_2_train.transform(log, channels=['FSC_A','FSC_H', 'FSC_W', 'SSC_A', 'SSC_H', 'SSC_W', 'BV421_A', 'FITC_A','PerCP_A', 'PE_Texas_Red_A', 'Alexa_Fluor_700_A'], b=500.0)\n",
        "Total_pop_2_log.replace([np.inf, -np.inf], np.nan, inplace = True)\n",
        "Total_pop_2_log = Total_pop_2_log.fillna(0)\n",
        "Total_pop_2_log['Cell_line'] = 1\n",
        "Total_pop_2_log.reset_index(inplace = True)\n",
        "Total_pop_2_log['group'] = Total_pop_2_train['group']\n",
        "prefeatured_pop_2 = Total_pop_2_log\n",
        "\n",
        "# log transformation train pop 2\n",
        "Total_pop_2_test_log = Total_pop_2_test.transform(log, channels=['FSC_A','FSC_H', 'FSC_W', 'SSC_A', 'SSC_H', 'SSC_W', 'BV421_A', 'FITC_A','PerCP_A', 'PE_Texas_Red_A', 'Alexa_Fluor_700_A'], b=500.0)\n",
        "Total_pop_2_test_log.replace([np.inf, -np.inf], np.nan, inplace = True)\n",
        "Total_pop_2_test_log = Total_pop_2_test_log.fillna(0)\n",
        "Total_pop_2_test_log['Cell_line'] = 1\n",
        "Total_pop_2_test_log.reset_index(inplace = True)\n",
        "prefeatured_pop_2_test = Total_pop_2_test_log"
      ]
    },
    {
      "cell_type": "code",
      "execution_count": null,
      "metadata": {
        "id": "1Y5-vvJBNQqM"
      },
      "outputs": [],
      "source": [
        "# normalizing the intensities using FSC_A\n",
        "\n",
        "#pop 1 training\n",
        "Total_pop_1_log[['normalized_BV421_A', 'normalized_FITC_A', 'normalized_PE_Texas_Red_A',\n",
        "          'normalized_Alexa_Fluor_700_A', 'normalized_PerCP_A']] = Total_pop_1_log.apply(lambda x: normalized_intencity_single(x.BV421_A,\n",
        "                                                                                                                       x.FITC_A, x.PE_Texas_Red_A,\n",
        "                                                                                                                       x.Alexa_Fluor_700_A,\n",
        "                                                                                                                       x.PerCP_A, x.FSC_A), axis =1)\n",
        "#pop 2 testing\n",
        "Total_pop_1_test_log[['normalized_BV421_A', 'normalized_FITC_A', 'normalized_PE_Texas_Red_A',\n",
        "          'normalized_Alexa_Fluor_700_A', 'normalized_PerCP_A']] = Total_pop_1_test_log.apply(lambda x: normalized_intencity_single(x.BV421_A,\n",
        "                                                                                                                       x.FITC_A, x.PE_Texas_Red_A,\n",
        "                                                                                                                       x.Alexa_Fluor_700_A,\n",
        "                                                                                                                       x.PerCP_A, x.FSC_A), axis =1)\n",
        "#pop 2 training\n",
        "Total_pop_2_log[['normalized_BV421_A', 'normalized_FITC_A', 'normalized_PE_Texas_Red_A',\n",
        "          'normalized_Alexa_Fluor_700_A', 'normalized_PerCP_A']] = Total_pop_2_log.apply(lambda x: normalized_intencity_single(x.BV421_A,\n",
        "                                                                                                                       x.FITC_A, x.PE_Texas_Red_A,\n",
        "                                                                                                                       x.Alexa_Fluor_700_A,\n",
        "                                                                                                                       x.PerCP_A, x.FSC_A), axis =1)\n",
        "#pop 2 testing\n",
        "Total_pop_2_test_log[['normalized_BV421_A', 'normalized_FITC_A', 'normalized_PE_Texas_Red_A',\n",
        "          'normalized_Alexa_Fluor_700_A', 'normalized_PerCP_A']] = Total_pop_2_test_log.apply(lambda x: normalized_intencity_single(x.BV421_A,\n",
        "                                                                                                                       x.FITC_A, x.PE_Texas_Red_A,\n",
        "                                                                                                                       x.Alexa_Fluor_700_A,\n",
        "                                                                                                                       x.PerCP_A, x.FSC_A), axis =1)"
      ]
    },
    {
      "cell_type": "code",
      "execution_count": null,
      "metadata": {
        "id": "R2DnDaZZNQqN"
      },
      "outputs": [],
      "source": [
        "# changing inf values to NaN and then to 0\n",
        "\n",
        "Total_pop_1_log = Total_pop_1_log.replace([np.inf, -np.inf], np.nan)\n",
        "Total_pop_1_log = Total_pop_1_log.fillna(0)\n",
        "\n",
        "Total_pop_1_test_log = Total_pop_1_test_log.replace([np.inf, -np.inf], np.nan)\n",
        "Total_pop_1_test_log = Total_pop_1_test_log.fillna(0)\n",
        "\n",
        "Total_pop_2_log = Total_pop_2_log.replace([np.inf, -np.inf], np.nan)\n",
        "Total_pop_2_log = Total_pop_2_log.fillna(0)\n",
        "\n",
        "Total_pop_2_test_log = Total_pop_2_test_log.replace([np.inf, -np.inf], np.nan)\n",
        "Total_pop_2_test_log = Total_pop_2_test_log.fillna(0)"
      ]
    },
    {
      "cell_type": "code",
      "execution_count": null,
      "metadata": {
        "id": "N5A1AHsuNQqO"
      },
      "outputs": [],
      "source": [
        "# saving the datasets\n",
        "\n",
        "Total_pop_1_log.to_csv('H460_log_filtered_single_train.csv')\n",
        "Total_pop_1_test_log.to_csv('H460_log_filtered_single_test.csv')\n",
        "Total_pop_2_log.to_csv('H460_cis_res_log_filtered_single_train.csv')\n",
        "Total_pop_2_test_log.to_csv('H460_cis_res_log_filtered_single_test.csv')"
      ]
    },
    {
      "cell_type": "code",
      "execution_count": null,
      "metadata": {
        "colab": {
          "base_uri": "https://localhost:8080/"
        },
        "id": "lix7LR4MNQqO",
        "outputId": "37b825b1-498f-45c5-e6b4-170cf0c2ba37"
      },
      "outputs": [
        {
          "output_type": "stream",
          "name": "stdout",
          "text": [
            "<class 'pandas.core.frame.DataFrame'>\n",
            "RangeIndex: 269817 entries, 0 to 269816\n",
            "Data columns (total 19 columns):\n",
            " #   Column                        Non-Null Count   Dtype  \n",
            "---  ------                        --------------   -----  \n",
            " 0   index                         269817 non-null  int64  \n",
            " 1   FSC_A                         269817 non-null  float64\n",
            " 2   FSC_H                         269817 non-null  float64\n",
            " 3   FSC_W                         269817 non-null  float64\n",
            " 4   SSC_A                         269817 non-null  float64\n",
            " 5   SSC_H                         269817 non-null  float64\n",
            " 6   SSC_W                         269817 non-null  float64\n",
            " 7   BV421_A                       269817 non-null  float64\n",
            " 8   FITC_A                        269817 non-null  float64\n",
            " 9   PerCP_A                       269817 non-null  float64\n",
            " 10  PE_Texas_Red_A                269817 non-null  float64\n",
            " 11  Alexa_Fluor_700_A             269817 non-null  float64\n",
            " 12  group                         269817 non-null  int64  \n",
            " 13  Cell_line                     269817 non-null  int64  \n",
            " 14  normalized_BV421_A            269817 non-null  float64\n",
            " 15  normalized_FITC_A             269817 non-null  float64\n",
            " 16  normalized_PE_Texas_Red_A     269817 non-null  float64\n",
            " 17  normalized_Alexa_Fluor_700_A  269817 non-null  float64\n",
            " 18  normalized_PerCP_A            269817 non-null  float64\n",
            "dtypes: float64(16), int64(3)\n",
            "memory usage: 39.1 MB\n"
          ]
        }
      ],
      "source": [
        "# combining the 2 populations to one dataframe for both training and testing\n",
        "\n",
        "df_list_train = [Total_pop_1_log, Total_pop_2_log]\n",
        "All_data_train = pd.DataFrame()\n",
        "for df in df_list_train:\n",
        "    All_data_train = pd.concat([All_data_train, df], ignore_index=True)\n",
        "\n",
        "\n",
        "df_list_test = [Total_pop_1_test_log, Total_pop_2_test_log]\n",
        "All_data_test = pd.DataFrame()\n",
        "for df in df_list_test:\n",
        "    All_data_test = pd.concat([All_data_test, df], ignore_index=True)"
      ]
    },
    {
      "cell_type": "markdown",
      "source": [
        "Batch dataset - data that was collected on differents experiments at different days"
      ],
      "metadata": {
        "id": "Gbl74VssGQMR"
      }
    },
    {
      "cell_type": "code",
      "execution_count": null,
      "metadata": {
        "colab": {
          "base_uri": "https://localhost:8080/"
        },
        "id": "euLgpX7JNQqP",
        "outputId": "27876e0c-07dc-4b55-e559-42b21e755ac3"
      },
      "outputs": [
        {
          "output_type": "stream",
          "name": "stdout",
          "text": [
            "<class 'pandas.core.frame.DataFrame'>\n",
            "Int64Index: 56702 entries, 24497 to 33324\n",
            "Data columns (total 16 columns):\n",
            " #   Column             Non-Null Count  Dtype  \n",
            "---  ------             --------------  -----  \n",
            " 0   index              56702 non-null  int64  \n",
            " 1   Unnamed: 0         56702 non-null  float64\n",
            " 2   FSC_A              56702 non-null  float64\n",
            " 3   FSC_H              56702 non-null  float64\n",
            " 4   FSC_W              56702 non-null  float64\n",
            " 5   SSC_A              56702 non-null  float64\n",
            " 6   SSC_H              56702 non-null  float64\n",
            " 7   SSC_W              56702 non-null  float64\n",
            " 8   BV421_A            56702 non-null  float64\n",
            " 9   FITC_A             56702 non-null  float64\n",
            " 10  PerCP_A            56702 non-null  float64\n",
            " 11  PE_Texas_Red_A     56702 non-null  float64\n",
            " 12  Alexa_Fluor_700_A  56702 non-null  float64\n",
            " 13  row_index          56702 non-null  float64\n",
            " 14  population_number  56702 non-null  float64\n",
            " 15  Cell_line          56702 non-null  int64  \n",
            "dtypes: float64(14), int64(2)\n",
            "memory usage: 7.4 MB\n"
          ]
        }
      ],
      "source": [
        "# building the batch dataset\n",
        "\n",
        "df_list_batch = [Total_H460_batch_log_single, Total_H460_cis_res_batch_log_single]\n",
        "All_data_batch = pd.DataFrame()\n",
        "for df in df_list_batch:\n",
        "    All_data_batch = pd.concat([All_data_batch, df], ignore_index=True)\n",
        "\n",
        "All_data_batch = shuffle(All_data_batch)\n",
        "All_data_batch.drop(['index', 'Unnamed: 0'], axis = 1, inplace = True)"
      ]
    },
    {
      "cell_type": "code",
      "execution_count": null,
      "metadata": {
        "id": "yJ2NLEahNQqQ"
      },
      "outputs": [],
      "source": [
        "# normalization of the batch data\n",
        "\n",
        "All_data_batch[['normalized_BV421_A', 'normalized_FITC_A', 'normalized_PE_Texas_Red_A',\n",
        "          'normalized_Alexa_Fluor_700_A', 'normalized_PerCP_A']] = All_data_batch.apply(lambda x: normalized_intencity_single(x.BV421_A,\n",
        "                                                                                                                       x.FITC_A, x.PE_Texas_Red_A,\n",
        "                                                                                                                       x.Alexa_Fluor_700_A,\n",
        "                                                                                                                       x.PerCP_A, x.FSC_A), axis =1)"
      ]
    },
    {
      "cell_type": "code",
      "execution_count": null,
      "metadata": {
        "id": "SG62B-JdNQqQ"
      },
      "outputs": [],
      "source": [
        "# changing inf values to NaN and then to 0, and droping the row index and population number data.\n",
        "\n",
        "All_data_batch.replace([np.inf, -np.inf], np.nan, inplace = True)\n",
        "All_data_batch.fillna(0, inplace = True)\n",
        "All_data_batch.drop(['row_index', 'population_number'], axis = 1, inplace = True)"
      ]
    },
    {
      "cell_type": "markdown",
      "source": [
        "#Modle fiting and testing"
      ],
      "metadata": {
        "id": "aRCbeOZjGrk9"
      }
    },
    {
      "cell_type": "code",
      "execution_count": null,
      "metadata": {
        "id": "PLYVsqngNQqR"
      },
      "outputs": [],
      "source": [
        "# assigning the target as the label and cols as the features train data\n",
        "\n",
        "cols_train = [col for col in All_data_train.columns if col not in ['Cell_line']]\n",
        "single_cell_data_train = All_data_train[cols_train]\n",
        "target_train = All_data_train['Cell_line']\n",
        "target_group = ['0', '1']"
      ]
    },
    {
      "cell_type": "code",
      "execution_count": null,
      "metadata": {
        "colab": {
          "base_uri": "https://localhost:8080/"
        },
        "id": "jLaVTZ2vNQqR",
        "outputId": "592f209f-7180-4cfb-ef87-664d7fa5e8ef"
      },
      "outputs": [
        {
          "output_type": "stream",
          "name": "stderr",
          "text": [
            "<ipython-input-32-3b26c3539d96>:6: SettingWithCopyWarning: \n",
            "A value is trying to be set on a copy of a slice from a DataFrame\n",
            "\n",
            "See the caveats in the documentation: https://pandas.pydata.org/pandas-docs/stable/user_guide/indexing.html#returning-a-view-versus-a-copy\n",
            "  single_cell_data_train.drop('group', axis = 1, inplace = True)\n"
          ]
        }
      ],
      "source": [
        "# using GroupKFold in order to prevent data leakage between training and testing data when evaluating the model using cross validation\n",
        "\n",
        "groups = single_cell_data_train['group']\n",
        "cv = list(GroupKFold(n_splits=5).split(single_cell_data_train, target_train, groups=groups))\n",
        "\n",
        "# droping the group feature\n",
        "single_cell_data_train.drop('group', axis = 1, inplace = True)"
      ]
    },
    {
      "cell_type": "code",
      "execution_count": null,
      "metadata": {
        "id": "nbF_1upQOPkx"
      },
      "outputs": [],
      "source": [
        "# assigning the target as the label and cols as the features test data\n",
        "\n",
        "cols_test = [col for col in All_data_test.columns if col not in ['Cell_line']]\n",
        "single_cell_data_test = All_data_test[cols_test]\n",
        "target_test = All_data_test['Cell_line']"
      ]
    },
    {
      "cell_type": "markdown",
      "metadata": {
        "id": "Xa7UzXbdNQqU"
      },
      "source": [
        "#Physiological features analysis\n",
        "\n",
        "The data contains only the FCS (cell size) and the SSC (cell granularity) values"
      ]
    },
    {
      "cell_type": "code",
      "execution_count": null,
      "metadata": {
        "id": "1Eh0XfQRNQqX"
      },
      "outputs": [],
      "source": [
        "# preparing the train data - filtering out the uptake features\n",
        "\n",
        "# training and testing datasets\n",
        "X_train_phys = single_cell_data_train.drop(columns = ['index','BV421_A', 'FITC_A', 'PerCP_A', 'PE_Texas_Red_A', 'Alexa_Fluor_700_A', 'index',\n",
        "                                       'normalized_BV421_A', 'normalized_FITC_A', 'normalized_PE_Texas_Red_A', 'normalized_Alexa_Fluor_700_A', 'normalized_PerCP_A'], axis =1)\n",
        "\n",
        "X_test_phys = single_cell_data_test.drop(columns = ['index', 'BV421_A', 'FITC_A', 'PerCP_A', 'PE_Texas_Red_A', 'Alexa_Fluor_700_A', 'index',\n",
        ",                                       'normalized_BV421_A', 'normalized_FITC_A', 'normalized_PE_Texas_Red_A', 'normalized_Alexa_Fluor_700_A', 'normalized_PerCP_A'], axis =1)\n",
        "\n",
        "y_train_phys = target_train\n",
        "y_test_phys = target_test\n",
        "\n",
        "# spliting the testing dataset into testing and validation datasets\n",
        "X_test_phys, X_val_phys, y_test_phys, y_val_phys = train_test_split(X_test_phys, y_test_phys, test_size=0.5, random_state=42)\n",
        "\n",
        "# Batch dataset\n",
        "data_batch_phys = All_data_batch.drop(columns = ['BV421_A', 'FITC_A', 'PerCP_A', 'PE_Texas_Red_A', 'Alexa_Fluor_700_A',\n",
        "                                       'normalized_BV421_A', 'normalized_FITC_A', 'normalized_PE_Texas_Red_A', 'normalized_Alexa_Fluor_700_A', 'normalized_PerCP_A',\n",
        "                                       ], axis =1)\n"
      ]
    },
    {
      "cell_type": "markdown",
      "source": [
        "Random forest"
      ],
      "metadata": {
        "id": "SBffibloKXzG"
      }
    },
    {
      "cell_type": "code",
      "execution_count": null,
      "metadata": {
        "id": "sNhUsTE1YZ3e"
      },
      "outputs": [],
      "source": [
        "# training the model and displaying its performance\n",
        "random_forest_phys = RandomForestClassifier(n_estimators=1000,n_jobs=-1,max_depth = 9)\n",
        "my_model_rf_phys = random_forest_phys.fit(X_train_phys,y_train_phys)\n",
        "display_classification_results(my_model_rf_phys, X_train_phys, y_train_phys, X_val_phys, y_val_phys);"
      ]
    },
    {
      "cell_type": "code",
      "execution_count": null,
      "metadata": {
        "id": "3UrS5dDg61BZ"
      },
      "outputs": [],
      "source": [
        "# evaluating the model accuracy using cross validation\n",
        "scores = cross_val_score(random_forest_phys, X_train_phys, y_train_phys, scoring='accuracy', cv=cv, n_jobs=-1)\n",
        "print('Cross validation Accuracy: %.3f (%.3f)' % (mean(scores)*100, std(scores)*100))\n",
        "\n",
        "# printing the model accuracy on the training dataset\n",
        "print('Random Forest training Score: {0:2.5f}'.format(my_model_rf_phys.score(X_train_phys, y_train_phys)))"
      ]
    },
    {
      "cell_type": "code",
      "execution_count": null,
      "metadata": {
        "id": "nEarnpoC61BY"
      },
      "outputs": [],
      "source": [
        "# prediction and visualization\n",
        "pred_rf_grouped_phys= my_model_rf_phys.predict(X_test_phys)\n",
        "heatconmat(y_test_phys,pred_rf_grouped_phys)\n",
        "print ('Random Forest testing Score: {0:2.5f}'.format(my_model_rf_phys.score(X_test_phys, y_test_phys)))"
      ]
    },
    {
      "cell_type": "code",
      "execution_count": null,
      "metadata": {
        "id": "kmpnlGWm61BY"
      },
      "outputs": [],
      "source": [
        "# Displaying the features importance of the model\n",
        "perm_rf = PermutationImportance(my_model_rf_phys).fit(X_train_phys, y_train_phys)\n",
        "eli5.show_weights(perm_rf, feature_names = X_train_phys.columns.tolist())"
      ]
    },
    {
      "cell_type": "code",
      "execution_count": null,
      "metadata": {
        "id": "yQkGo-3cv0bW",
        "colab": {
          "base_uri": "https://localhost:8080/",
          "height": 202
        },
        "outputId": "4c09afcb-6692-4f69-fb49-c66fe82a4812"
      },
      "outputs": [
        {
          "output_type": "error",
          "ename": "NameError",
          "evalue": "name 'my_model_rf_phys' is not defined",
          "traceback": [
            "\u001b[0;31m---------------------------------------------------------------------------\u001b[0m",
            "\u001b[0;31mNameError\u001b[0m                                 Traceback (most recent call last)",
            "\u001b[0;32m<ipython-input-9-4185c2367c98>\u001b[0m in \u001b[0;36m<cell line: 3>\u001b[0;34m()\u001b[0m\n\u001b[1;32m      1\u001b[0m \u001b[0;31m# saving the model as a pickle - need to assign the wanted chip name\u001b[0m\u001b[0;34m\u001b[0m\u001b[0;34m\u001b[0m\u001b[0m\n\u001b[1;32m      2\u001b[0m \u001b[0mmodel_name\u001b[0m \u001b[0;34m=\u001b[0m \u001b[0;34m'H460_groupkfold_single_rf_phys_no_bins'\u001b[0m\u001b[0;34m\u001b[0m\u001b[0;34m\u001b[0m\u001b[0m\n\u001b[0;32m----> 3\u001b[0;31m \u001b[0mpickle\u001b[0m\u001b[0;34m.\u001b[0m\u001b[0mdump\u001b[0m\u001b[0;34m(\u001b[0m\u001b[0mmy_model_rf_phys\u001b[0m\u001b[0;34m,\u001b[0m \u001b[0mopen\u001b[0m\u001b[0;34m(\u001b[0m\u001b[0;34m'/content/drive/MyDrive/H460_'\u001b[0m\u001b[0;34m+\u001b[0m \u001b[0mmodel_name\u001b[0m\u001b[0;34m+\u001b[0m\u001b[0;34m'.pkl'\u001b[0m\u001b[0;34m,\u001b[0m \u001b[0;34m'wb'\u001b[0m\u001b[0;34m)\u001b[0m\u001b[0;34m)\u001b[0m\u001b[0;34m\u001b[0m\u001b[0;34m\u001b[0m\u001b[0m\n\u001b[0m",
            "\u001b[0;31mNameError\u001b[0m: name 'my_model_rf_phys' is not defined"
          ]
        }
      ],
      "source": [
        "# saving the model as a pickle\n",
        "model_name = 'H460_groupkfold_single_rf_phys'\n",
        "pickle.dump(my_model_rf_phys, open(data_path + model_name+'.pkl', 'wb'))"
      ]
    },
    {
      "cell_type": "markdown",
      "source": [
        "XGBoost"
      ],
      "metadata": {
        "id": "YzxvoK7yMmeM"
      }
    },
    {
      "cell_type": "code",
      "execution_count": null,
      "metadata": {
        "id": "ynV6mB5_G3Ps"
      },
      "outputs": [],
      "source": [
        "# training the model and displaying its performance\n",
        "xgboost_classification = XGBClassifier(n_jobs=-1, max_depth = 8, n_estimators = 500)\n",
        "my_model_xgboost_phys = xgboost_classification.fit(X_train_phys,y_train_phys)\n",
        "display_classification_results(my_model_xgboost_phys, X_train_phys, y_train_phys, X_val_phys, y_val_phys)"
      ]
    },
    {
      "cell_type": "code",
      "execution_count": null,
      "metadata": {
        "id": "TBFcwmIZ61Ba"
      },
      "outputs": [],
      "source": [
        "# evaluating the model accuracy using cross validation\n",
        "scores = cross_val_score(xgboost_classification, X_train_phys, y_train_phys, scoring='accuracy', cv=cv, n_jobs=-1)\n",
        "print('Cross validation Accuracy: %.3f (%.3f)' % (mean(scores)*100, std(scores)*100))\n",
        "\n",
        "# printing the model accuracy on the training dataset\n",
        "print ('xgboost training Score: {0:2.5f}'.format(my_model_xgboost_grouped_phys.score(X_train_phys, y_train_phys)))"
      ]
    },
    {
      "cell_type": "code",
      "execution_count": null,
      "metadata": {
        "id": "mAikigHy61BZ"
      },
      "outputs": [],
      "source": [
        "# prediction and visualization\n",
        "pred_xgboost = my_model_xgboost_grouped_phys.predict(X_test_phys)\n",
        "heatconmat(y_test_phys,pred_xgboost)\n",
        "print ('xgboost testing Score: {0:2.5f}'.format(my_model_xgboost_grouped_phys.score(X_test_phys, y_test_phys)))"
      ]
    },
    {
      "cell_type": "code",
      "execution_count": null,
      "metadata": {
        "id": "Wqwx4xdX61BZ"
      },
      "outputs": [],
      "source": [
        "# Displaying the features importance of the model\n",
        "perm_xgboost = PermutationImportance(my_model_xgboost_grouped_phys, random_state=1).fit(X_train_phys, y_train_phys)\n",
        "eli5.show_weights(perm_xgboost, feature_names = X_train_phys.columns.tolist())"
      ]
    },
    {
      "cell_type": "code",
      "execution_count": null,
      "metadata": {
        "id": "C7TKfr15wJcL"
      },
      "outputs": [],
      "source": [
        "# saving the model as a pickle\n",
        "model_name = 'H460_groupkfold_single_xgboost_phys'\n",
        "pickle.dump(my_model_xgboost_grouped_phys, open(data_path + model_name+'.pkl', 'wb'))"
      ]
    },
    {
      "cell_type": "markdown",
      "source": [
        "SVM"
      ],
      "metadata": {
        "id": "v6M7Zc63O8bV"
      }
    },
    {
      "cell_type": "code",
      "execution_count": null,
      "metadata": {
        "id": "RcVFFCZQ61Ba"
      },
      "outputs": [],
      "source": [
        "# training the model\n",
        "SVM_phys = svm.SVC(kernel='linear')\n",
        "my_model_SVM_grouped_phys = SVM_phys.fit(X_train_phys, y_train_phys)"
      ]
    },
    {
      "cell_type": "code",
      "execution_count": null,
      "metadata": {
        "id": "FApU3Xv-61Ba"
      },
      "outputs": [],
      "source": [
        "# evaluating the model accuracy using cross validation\n",
        "scores = cross_val_score(SVM_phys, X_train_phys, y_train_phys, scoring='accuracy', cv=cv, n_jobs=-1)\n",
        "print('Cross validation Accuracy: %.3f (%.3f)' % (mean(scores)*100, std(scores)*100))\n",
        "\n",
        "# printing the model accuracy on the training dataset\n",
        "print ('SVM training Score: {0:2.5f}'.format(my_model_SVM_grouped_phys.score(X_train_phys, y_train_phys)))"
      ]
    },
    {
      "cell_type": "code",
      "execution_count": null,
      "metadata": {
        "id": "-zWxCaI661Ba"
      },
      "outputs": [],
      "source": [
        "# prediction and visualization\n",
        "pred_SVM = my_model_SVM_grouped_phys.predict(X_test_phys)\n",
        "heatconmat(y_test_phys,pred_SVM)\n",
        "print ('SVM validation Score: {0:2.5f}'.format(my_model_SVM_grouped_phys.score(X_test_phys, y_test_phys)))"
      ]
    },
    {
      "cell_type": "code",
      "execution_count": null,
      "metadata": {
        "id": "UhNnkAZ361Ba"
      },
      "outputs": [],
      "source": [
        "# Displaying the features importance of the model\n",
        "perm_SVM = PermutationImportance(my_model_SVM_grouped_phys, random_state=1).fit(X_train_phys, y_train_phys)\n",
        "eli5.show_weights(perm_SVM, feature_names = X_train_phys.columns.tolist())"
      ]
    },
    {
      "cell_type": "code",
      "execution_count": null,
      "metadata": {
        "id": "7KSq1yAtwSu5"
      },
      "outputs": [],
      "source": [
        "# saving the model as a pickle\n",
        "model_name = 'H460_groupkfold_single_SVM_phys'\n",
        "pickle.dump(my_model_SVM_grouped_phys, open(data_path + model_name+'.pkl', 'wb'))"
      ]
    },
    {
      "cell_type": "markdown",
      "source": [
        "#models performance evaluation on new unseen data using the Batch dataset"
      ],
      "metadata": {
        "id": "Srgw4V_8Qx78"
      }
    },
    {
      "cell_type": "code",
      "execution_count": null,
      "metadata": {
        "id": "_NsX-s-fNuWq",
        "colab": {
          "base_uri": "https://localhost:8080/",
          "height": 807
        },
        "outputId": "5301a77f-9cd5-4ae0-c3a2-f4b7a4f1cb27"
      },
      "outputs": [
        {
          "output_type": "stream",
          "name": "stderr",
          "text": [
            "/usr/local/lib/python3.10/dist-packages/sklearn/base.py:318: UserWarning: Trying to unpickle estimator DecisionTreeClassifier from version 1.0.2 when using version 1.2.2. This might lead to breaking code or invalid results. Use at your own risk. For more info please refer to:\n",
            "https://scikit-learn.org/stable/model_persistence.html#security-maintainability-limitations\n",
            "  warnings.warn(\n",
            "/usr/local/lib/python3.10/dist-packages/sklearn/base.py:318: UserWarning: Trying to unpickle estimator RandomForestClassifier from version 1.0.2 when using version 1.2.2. This might lead to breaking code or invalid results. Use at your own risk. For more info please refer to:\n",
            "https://scikit-learn.org/stable/model_persistence.html#security-maintainability-limitations\n",
            "  warnings.warn(\n"
          ]
        },
        {
          "output_type": "error",
          "ename": "XGBoostError",
          "evalue": "[15:46:42] /workspace/src/learner.cc:1182: Check failed: header == serialisation_header_: If you are loading a serialized model (like pickle in Python, RDS in R) or\nconfiguration generated by an older version of XGBoost, please export the model by calling\n`Booster.save_model` from that version first, then load it back in current version. See:\n\n    https://xgboost.readthedocs.io/en/stable/tutorials/saving_model.html\n\nfor more details about differences between saving model and serializing.\n\nStack trace:\n  [bt] (0) /usr/local/lib/python3.10/dist-packages/xgboost/lib/libxgboost.so(+0x48c70a) [0x79359a8e070a]\n  [bt] (1) /usr/local/lib/python3.10/dist-packages/xgboost/lib/libxgboost.so(+0x4d06a7) [0x79359a9246a7]\n  [bt] (2) /usr/local/lib/python3.10/dist-packages/xgboost/lib/libxgboost.so(XGBoosterUnserializeFromBuffer+0x65) [0x79359a5b0c15]\n  [bt] (3) /lib/x86_64-linux-gnu/libffi.so.8(+0x7e2e) [0x793602b36e2e]\n  [bt] (4) /lib/x86_64-linux-gnu/libffi.so.8(+0x4493) [0x793602b33493]\n  [bt] (5) /usr/lib/python3.10/lib-dynload/_ctypes.cpython-310-x86_64-linux-gnu.so(+0xa3e9) [0x793602b5c3e9]\n  [bt] (6) /usr/lib/python3.10/lib-dynload/_ctypes.cpython-310-x86_64-linux-gnu.so(+0x9a00) [0x793602b5ba00]\n  [bt] (7) /usr/bin/python3(_PyObject_MakeTpCall+0x25b) [0x5a400ab78a7b]\n  [bt] (8) /usr/bin/python3(_PyEval_EvalFrameDefault+0x6a79) [0x5a400ab71629]\n\n",
          "traceback": [
            "\u001b[0;31m---------------------------------------------------------------------------\u001b[0m",
            "\u001b[0;31mXGBoostError\u001b[0m                              Traceback (most recent call last)",
            "\u001b[0;32m<ipython-input-41-4e5f8886f09a>\u001b[0m in \u001b[0;36m<cell line: 12>\u001b[0;34m()\u001b[0m\n\u001b[1;32m     10\u001b[0m \u001b[0mmodel_name\u001b[0m \u001b[0;34m=\u001b[0m \u001b[0;34m'H460_groupkfold_single_xgboost_phys_no_bins'\u001b[0m\u001b[0;34m\u001b[0m\u001b[0;34m\u001b[0m\u001b[0m\n\u001b[1;32m     11\u001b[0m \u001b[0ma_file\u001b[0m \u001b[0;34m=\u001b[0m \u001b[0mopen\u001b[0m\u001b[0;34m(\u001b[0m\u001b[0;34m'/content/drive/MyDrive/H460/'\u001b[0m\u001b[0;34m+\u001b[0m\u001b[0mmodel_name\u001b[0m\u001b[0;34m+\u001b[0m\u001b[0;34m'.pkl'\u001b[0m\u001b[0;34m,\u001b[0m \u001b[0;34m\"rb\"\u001b[0m\u001b[0;34m)\u001b[0m\u001b[0;34m\u001b[0m\u001b[0;34m\u001b[0m\u001b[0m\n\u001b[0;32m---> 12\u001b[0;31m \u001b[0mmy_model_single_xgboost_phys_no_bins\u001b[0m \u001b[0;34m=\u001b[0m \u001b[0mpickle\u001b[0m\u001b[0;34m.\u001b[0m\u001b[0mload\u001b[0m\u001b[0;34m(\u001b[0m\u001b[0ma_file\u001b[0m\u001b[0;34m)\u001b[0m\u001b[0;34m\u001b[0m\u001b[0;34m\u001b[0m\u001b[0m\n\u001b[0m\u001b[1;32m     13\u001b[0m \u001b[0ma_file\u001b[0m\u001b[0;34m.\u001b[0m\u001b[0mclose\u001b[0m\u001b[0;34m(\u001b[0m\u001b[0;34m)\u001b[0m\u001b[0;34m\u001b[0m\u001b[0;34m\u001b[0m\u001b[0m\n\u001b[1;32m     14\u001b[0m \u001b[0;34m\u001b[0m\u001b[0m\n",
            "\u001b[0;32m/usr/local/lib/python3.10/dist-packages/xgboost/core.py\u001b[0m in \u001b[0;36m__setstate__\u001b[0;34m(self, state)\u001b[0m\n\u001b[1;32m   1782\u001b[0m             \u001b[0mlength\u001b[0m \u001b[0;34m=\u001b[0m \u001b[0mc_bst_ulong\u001b[0m\u001b[0;34m(\u001b[0m\u001b[0mlen\u001b[0m\u001b[0;34m(\u001b[0m\u001b[0mbuf\u001b[0m\u001b[0;34m)\u001b[0m\u001b[0;34m)\u001b[0m\u001b[0;34m\u001b[0m\u001b[0;34m\u001b[0m\u001b[0m\n\u001b[1;32m   1783\u001b[0m             \u001b[0mptr\u001b[0m \u001b[0;34m=\u001b[0m \u001b[0;34m(\u001b[0m\u001b[0mctypes\u001b[0m\u001b[0;34m.\u001b[0m\u001b[0mc_char\u001b[0m \u001b[0;34m*\u001b[0m \u001b[0mlen\u001b[0m\u001b[0;34m(\u001b[0m\u001b[0mbuf\u001b[0m\u001b[0;34m)\u001b[0m\u001b[0;34m)\u001b[0m\u001b[0;34m.\u001b[0m\u001b[0mfrom_buffer\u001b[0m\u001b[0;34m(\u001b[0m\u001b[0mbuf\u001b[0m\u001b[0;34m)\u001b[0m\u001b[0;34m\u001b[0m\u001b[0;34m\u001b[0m\u001b[0m\n\u001b[0;32m-> 1784\u001b[0;31m             \u001b[0m_check_call\u001b[0m\u001b[0;34m(\u001b[0m\u001b[0m_LIB\u001b[0m\u001b[0;34m.\u001b[0m\u001b[0mXGBoosterUnserializeFromBuffer\u001b[0m\u001b[0;34m(\u001b[0m\u001b[0mhandle\u001b[0m\u001b[0;34m,\u001b[0m \u001b[0mptr\u001b[0m\u001b[0;34m,\u001b[0m \u001b[0mlength\u001b[0m\u001b[0;34m)\u001b[0m\u001b[0;34m)\u001b[0m\u001b[0;34m\u001b[0m\u001b[0;34m\u001b[0m\u001b[0m\n\u001b[0m\u001b[1;32m   1785\u001b[0m             \u001b[0mstate\u001b[0m\u001b[0;34m[\u001b[0m\u001b[0;34m\"handle\"\u001b[0m\u001b[0;34m]\u001b[0m \u001b[0;34m=\u001b[0m \u001b[0mhandle\u001b[0m\u001b[0;34m\u001b[0m\u001b[0;34m\u001b[0m\u001b[0m\n\u001b[1;32m   1786\u001b[0m         \u001b[0mself\u001b[0m\u001b[0;34m.\u001b[0m\u001b[0m__dict__\u001b[0m\u001b[0;34m.\u001b[0m\u001b[0mupdate\u001b[0m\u001b[0;34m(\u001b[0m\u001b[0mstate\u001b[0m\u001b[0;34m)\u001b[0m\u001b[0;34m\u001b[0m\u001b[0;34m\u001b[0m\u001b[0m\n",
            "\u001b[0;32m/usr/local/lib/python3.10/dist-packages/xgboost/core.py\u001b[0m in \u001b[0;36m_check_call\u001b[0;34m(ret)\u001b[0m\n\u001b[1;32m    280\u001b[0m     \"\"\"\n\u001b[1;32m    281\u001b[0m     \u001b[0;32mif\u001b[0m \u001b[0mret\u001b[0m \u001b[0;34m!=\u001b[0m \u001b[0;36m0\u001b[0m\u001b[0;34m:\u001b[0m\u001b[0;34m\u001b[0m\u001b[0;34m\u001b[0m\u001b[0m\n\u001b[0;32m--> 282\u001b[0;31m         \u001b[0;32mraise\u001b[0m \u001b[0mXGBoostError\u001b[0m\u001b[0;34m(\u001b[0m\u001b[0mpy_str\u001b[0m\u001b[0;34m(\u001b[0m\u001b[0m_LIB\u001b[0m\u001b[0;34m.\u001b[0m\u001b[0mXGBGetLastError\u001b[0m\u001b[0;34m(\u001b[0m\u001b[0;34m)\u001b[0m\u001b[0;34m)\u001b[0m\u001b[0;34m)\u001b[0m\u001b[0;34m\u001b[0m\u001b[0;34m\u001b[0m\u001b[0m\n\u001b[0m\u001b[1;32m    283\u001b[0m \u001b[0;34m\u001b[0m\u001b[0m\n\u001b[1;32m    284\u001b[0m \u001b[0;34m\u001b[0m\u001b[0m\n",
            "\u001b[0;31mXGBoostError\u001b[0m: [15:46:42] /workspace/src/learner.cc:1182: Check failed: header == serialisation_header_: If you are loading a serialized model (like pickle in Python, RDS in R) or\nconfiguration generated by an older version of XGBoost, please export the model by calling\n`Booster.save_model` from that version first, then load it back in current version. See:\n\n    https://xgboost.readthedocs.io/en/stable/tutorials/saving_model.html\n\nfor more details about differences between saving model and serializing.\n\nStack trace:\n  [bt] (0) /usr/local/lib/python3.10/dist-packages/xgboost/lib/libxgboost.so(+0x48c70a) [0x79359a8e070a]\n  [bt] (1) /usr/local/lib/python3.10/dist-packages/xgboost/lib/libxgboost.so(+0x4d06a7) [0x79359a9246a7]\n  [bt] (2) /usr/local/lib/python3.10/dist-packages/xgboost/lib/libxgboost.so(XGBoosterUnserializeFromBuffer+0x65) [0x79359a5b0c15]\n  [bt] (3) /lib/x86_64-linux-gnu/libffi.so.8(+0x7e2e) [0x793602b36e2e]\n  [bt] (4) /lib/x86_64-linux-gnu/libffi.so.8(+0x4493) [0x793602b33493]\n  [bt] (5) /usr/lib/python3.10/lib-dynload/_ctypes.cpython-310-x86_64-linux-gnu.so(+0xa3e9) [0x793602b5c3e9]\n  [bt] (6) /usr/lib/python3.10/lib-dynload/_ctypes.cpython-310-x86_64-linux-gnu.so(+0x9a00) [0x793602b5ba00]\n  [bt] (7) /usr/bin/python3(_PyObject_MakeTpCall+0x25b) [0x5a400ab78a7b]\n  [bt] (8) /usr/bin/python3(_PyEval_EvalFrameDefault+0x6a79) [0x5a400ab71629]\n\n"
          ]
        }
      ],
      "source": [
        "# opening the saved models\n",
        "\n",
        "# RF\n",
        "model_name = 'H460_groupkfold_single_rf_phys'\n",
        "a_file = open(data_path+model_name+'.pkl', \"rb\")\n",
        "my_model_single_rf_phys = pickle.load(a_file)\n",
        "a_file.close()\n",
        "\n",
        "# xgboost\n",
        "model_name = 'H460_groupkfold_single_xgboost_phys'\n",
        "a_file = open(data_path+model_name+'.pkl', \"rb\")\n",
        "my_model_single_xgboost_phys = pickle.load(a_file)\n",
        "a_file.close()\n",
        "\n",
        "# SVM\n",
        "model_name = 'H460_groupkfold_single_SVM_phys'\n",
        "a_file = open(data_path+model_name+'.pkl', \"rb\")\n",
        "my_model_single_SVM_phys = pickle.load(a_file)\n",
        "a_file.close()"
      ]
    },
    {
      "cell_type": "code",
      "execution_count": null,
      "metadata": {
        "id": "dmwh_xN-61Bb"
      },
      "outputs": [],
      "source": [
        "# preparint the features and the target vector\n",
        "cols_batch = [col for col in data_batch_phys.columns if col not in ['Cell_line']]\n",
        "population_data_batch_phys = data_batch_phys[cols_batch]\n",
        "#assigning the labels column as target\n",
        "target_batch = data_batch_phys['Cell_line']"
      ]
    },
    {
      "cell_type": "markdown",
      "source": [
        "Random forest"
      ],
      "metadata": {
        "id": "ncAsBbgu9Sgu"
      }
    },
    {
      "cell_type": "code",
      "execution_count": null,
      "metadata": {
        "id": "tKFKjNbb61Bb"
      },
      "outputs": [],
      "source": [
        "pred_random_forest_phys_batch = my_model_single_rf_phys.predict(population_data_batch_phys)\n",
        "heatconmat(target_batch,pred_random_forest_phys_batch)\n",
        "accuracy = accuracy_score(pred_random_forest_phys_batch.astype(int), target_batch.astype(int))\n",
        "accuracy"
      ]
    },
    {
      "cell_type": "markdown",
      "source": [
        "XGBoost"
      ],
      "metadata": {
        "id": "kcd_8tTj9V6s"
      }
    },
    {
      "cell_type": "code",
      "execution_count": null,
      "metadata": {
        "id": "90CPl6Ri61Bc"
      },
      "outputs": [],
      "source": [
        "pred_xgboost_phys_batch = my_model_single_xgboost_phys_no_bins.predict(population_data_batch_phys)\n",
        "heatconmat(target_batch,pred_xgboost_phys_batch)\n",
        "accuracy = accuracy_score(pred_xgboost_phys_batch.astype(int), target_batch.astype(int))\n",
        "accuracy"
      ]
    },
    {
      "cell_type": "markdown",
      "source": [
        "SVM"
      ],
      "metadata": {
        "id": "dHzslyiX9YwH"
      }
    },
    {
      "cell_type": "code",
      "execution_count": null,
      "metadata": {
        "id": "-jtBCc6x61Bc"
      },
      "outputs": [],
      "source": [
        "pred_batch_phys_SVM = my_model_single_SVM_phys.predict(population_data_batch_phys)\n",
        "heatconmat(target_batch,pred_batch_phys_SVM)\n",
        "accuracy = accuracy_score(pred_batch_phys_SVM.astype(int), target_batch.astype(int))\n",
        "accuracy"
      ]
    },
    {
      "cell_type": "markdown",
      "source": [
        "#Dimention reduction using principle component analysis -PCA"
      ],
      "metadata": {
        "id": "6rLXgZZ5R_YL"
      }
    },
    {
      "cell_type": "markdown",
      "source": [
        "preparing the transformed data"
      ],
      "metadata": {
        "id": "NyBVl104T4sg"
      }
    },
    {
      "cell_type": "code",
      "execution_count": null,
      "metadata": {
        "id": "bloYzeg661Bd"
      },
      "outputs": [],
      "source": [
        "# rescale the data\n",
        "train_data_rescaled = scaler.fit_transform(X_train_phys)\n",
        "test_data_rescaled = scaler.fit_transform(X_test_phys)\n",
        "batch_data_rescaled = scaler.fit_transform(population_data_batch_phys)"
      ]
    },
    {
      "cell_type": "code",
      "execution_count": null,
      "metadata": {
        "id": "1727-0Vn61Bd"
      },
      "outputs": [],
      "source": [
        "# displaying the componantes and the data varience they includes for choosing the number of componnets to reduced to\n",
        "cov_mat = np.cov(train_data_rescaled.T)\n",
        "eigen_vals, eigen_vecs = np.linalg.eig(cov_mat)\n",
        "\n",
        "tot = sum(eigen_vals)\n",
        "var_exp = [(i / tot) for i in sorted(eigen_vals, reverse=True)]\n",
        "cum_var_exp = np.cumsum(var_exp)\n",
        "\n",
        "# plot explained variances\n",
        "plt.rcParams[\"figure.figsize\"] = (12,6)\n",
        "plt.bar(range(1,7), var_exp, alpha=0.5,\n",
        "        align='center', label='individual explained variance')\n",
        "plt.step(range(1,7), cum_var_exp, where='mid',\n",
        "         label='cumulative explained variance')\n",
        "plt.ylabel('Explained variance ratio')\n",
        "plt.xlabel('Principal component index')\n",
        "\n",
        "plt.axhline(y=0.95, color='r', linestyle='-')\n",
        "plt.text(0.5, 0.85, '95% cut-off threshold', color = 'red', fontsize=16)\n",
        "\n",
        "plt.legend(loc='best')\n",
        "plt.show()"
      ]
    },
    {
      "cell_type": "code",
      "execution_count": null,
      "metadata": {
        "id": "Juv5i5gx61Bd"
      },
      "outputs": [],
      "source": [
        "pca_phys = PCA(n_components=3) # choosing the number of dimentions\n",
        "\n",
        "# fit and transform data\n",
        "X_train_pca_phys = pca_phys.fit_transform(train_data_rescaled)\n",
        "X_test_pca_phys = pca_phys.transform(test_data_rescaled)\n",
        "X_batch_pca_phys = pca_phys.transform(batch_data_rescaled)"
      ]
    },
    {
      "cell_type": "code",
      "execution_count": null,
      "metadata": {
        "id": "MYAmFwypS5LS"
      },
      "outputs": [],
      "source": [
        "# How much each original feature contribute to the components\n",
        "print(pd.DataFrame(np.abs(pca_phys.components_),columns=X_train_phys.columns ,index = ['PC-1', 'PC-2', 'PC-3']))"
      ]
    },
    {
      "cell_type": "code",
      "execution_count": null,
      "metadata": {
        "id": "3bBrwVhlTS2A"
      },
      "outputs": [],
      "source": [
        "# printing the most contributing original feature for each component\n",
        "most_important = np.abs(pca_phys.components_).argmax(axis=1)\n",
        "initial_feature_names = X_train_phys.columns\n",
        "most_important_names = initial_feature_names[most_important]\n",
        "dic = {'PC{}'.format(i+1): most_important_names[i] for i in range(3)}\n",
        "pca_results = pd.DataFrame(dic.items())\n",
        "print(pca_results)"
      ]
    },
    {
      "cell_type": "markdown",
      "source": [
        "random forest"
      ],
      "metadata": {
        "id": "jSGLpqa2T093"
      }
    },
    {
      "cell_type": "code",
      "execution_count": null,
      "metadata": {
        "id": "9nbOm5P_AuB7"
      },
      "outputs": [],
      "source": [
        "# training the model and evaluating its performance on the testing data\n",
        "my_model_rf_PCA_phys = random_forest_phys.fit(X_train_pca_phys, y_train_phys)\n",
        "print ('Random Forest testing Score: {0:2.5f}'.format(my_model_rf_PCA_phys.score(X_test_pca_phys, y_test_phys)))"
      ]
    },
    {
      "cell_type": "code",
      "execution_count": null,
      "metadata": {
        "id": "D8pDZ2dSAuFg"
      },
      "outputs": [],
      "source": [
        "# evaluating the model performance on the Batch data\n",
        "pred_random_forest_phys_PCA_batch = my_model_rf_PCA_phys.predict(X_batch_pca_phys)\n",
        "accuracy = accuracy_score(pred_random_forest_phys_PCA_batch.astype(int), target_batch.astype(int))\n",
        "accuracy"
      ]
    },
    {
      "cell_type": "markdown",
      "source": [
        "XGBoost"
      ],
      "metadata": {
        "id": "OAhVZ28bUFE4"
      }
    },
    {
      "cell_type": "code",
      "execution_count": null,
      "metadata": {
        "id": "AmoPqDvPAuI5"
      },
      "outputs": [],
      "source": [
        "# training the modeln and evaluating its performance on the testing data\n",
        "my_model_xgboost_PCA_phys = xgboost_classification.fit(X_train_pca_phys, y_train_phys)\n",
        "print ('xgboost testing Score: {0:2.5f}'.format(my_model_xgboost_PCA_phys.score(X_test_pca_phys, y_test_phys)))"
      ]
    },
    {
      "cell_type": "code",
      "execution_count": null,
      "metadata": {
        "id": "KsbLk5XuAuM0"
      },
      "outputs": [],
      "source": [
        "# evaluating the model peerformance on the Batch data\n",
        "pred_xgboost_phys_PCA_batch = my_model_xgboost_PCA_phys.predict(X_batch_pca_phys)\n",
        "accuracy = accuracy_score(pred_xgboost_phys_PCA_batch.astype(int), target_batch.astype(int))\n",
        "accuracy"
      ]
    },
    {
      "cell_type": "markdown",
      "source": [
        "SVM"
      ],
      "metadata": {
        "id": "jzaraeFAUG60"
      }
    },
    {
      "cell_type": "code",
      "execution_count": null,
      "metadata": {
        "id": "FE99LY5gFcC2"
      },
      "outputs": [],
      "source": [
        "# training the modeln and evaluating its performance on the testing data\n",
        "my_model_SVM_PCA_phys = SVM_phys.fit(X_train_pca_phys, y_train_phys)\n",
        "print ('xgboost testing Score: {0:2.5f}'.format(my_model_SVM_PCA_phys.score(X_test_pca_phys, y_test_phys)))"
      ]
    },
    {
      "cell_type": "code",
      "execution_count": null,
      "metadata": {
        "id": "bjRo5E2oFp8L"
      },
      "outputs": [],
      "source": [
        "# evaluating the model peerformance on the Batch data\n",
        "pred_SVM_phys_PCA_batch = my_model_SVM_PCA_phys.predict(X_batch_pca_phys)\n",
        "accuracy = accuracy_score(pred_SVM_phys_PCA_batch.astype(int), target_batch.astype(int))\n",
        "accuracy"
      ]
    },
    {
      "cell_type": "markdown",
      "metadata": {
        "id": "_5ZT3rRkNQqg"
      },
      "source": [
        "# Normalized data - Uptake\n",
        "\n",
        "The data contains only the 5 particle uptake intensities values"
      ]
    },
    {
      "cell_type": "code",
      "execution_count": null,
      "metadata": {
        "id": "urllHpOiYbd5"
      },
      "outputs": [],
      "source": [
        "# preparing the data - filtering out the uptake features\n",
        "\n",
        "#training and testing\n",
        "X_train_uptake = single_cell_data_train.drop(columns = ['FSC_A', 'FSC_H', 'FSC_W', 'SSC_A', 'SSC_H', 'SSC_W',\n",
        "                                       'BV421_A', 'FITC_A', 'PerCP_A', 'PE_Texas_Red_A', 'Alexa_Fluor_700_A', 'index'], axis =1)\n",
        "\n",
        "X_test_uptake = single_cell_data_test.drop(columns = ['FSC_A', 'FSC_H', 'FSC_W', 'SSC_A', 'SSC_H', 'SSC_W',\n",
        "                                       'BV421_A', 'FITC_A', 'PerCP_A', 'PE_Texas_Red_A', 'Alexa_Fluor_700_A', 'index'], axis =1)\n",
        "\n",
        "y_train_uptake = target_train\n",
        "y_test_uptake = target_test\n",
        "\n",
        "# spliting the testing dataset into testing and validation datasets\n",
        "X_test_uptake, X_val_uptake, y_test_uptake, y_val_uptake = train_test_split(X_test_uptake, y_test_uptake, test_size=0.5, random_state=42)\n",
        "\n",
        "# Batch\n",
        "data_batch_uptake = All_data_batch.drop(columns = ['FSC_A', 'FSC_H', 'FSC_W', 'SSC_A', 'SSC_H', 'SSC_W',\n",
        "                                       'BV421_A', 'FITC_A', 'PerCP_A', 'PE_Texas_Red_A', 'Alexa_Fluor_700_A'], axis =1)"
      ]
    },
    {
      "cell_type": "markdown",
      "source": [
        "Random forest"
      ],
      "metadata": {
        "id": "stwALgQgxoEf"
      }
    },
    {
      "cell_type": "code",
      "execution_count": null,
      "metadata": {
        "id": "R9DdCNpsIm_V"
      },
      "outputs": [],
      "source": [
        "# training the model and displaying its performance\n",
        "random_forest_uptake = RandomForestClassifier(n_estimators=1000,n_jobs=-1,max_depth = 10)\n",
        "my_model_rf_uptake = random_forest_uptake.fit(X_train_uptake,y_train_uptake)\n",
        "display_classification_results(my_model_rf_uptake, X_train_uptake, y_train_uptake, X_val_uptake, y_val_uptake);"
      ]
    },
    {
      "cell_type": "code",
      "execution_count": null,
      "metadata": {
        "colab": {
          "base_uri": "https://localhost:8080/"
        },
        "id": "dh5Ma68sa71O",
        "outputId": "48013f9f-2e60-447e-ca22-7483a0156c80"
      },
      "outputs": [
        {
          "name": "stdout",
          "output_type": "stream",
          "text": [
            "Accuracy: 80.566 (1.479)\n"
          ]
        }
      ],
      "source": [
        "# evaluating the model accuracy using cross validation\n",
        "scores = cross_val_score(random_forest_uptake, X_train_uptake, y_train_uptake, scoring='accuracy', cv=cv, n_jobs=-1)\n",
        "print('Accuracy: %.3f (%.3f)' % (mean(scores)*100, std(scores)*100))\n",
        "# printing the model accuracy on the training dataset\n",
        "print ('Random Forest training Score: {0:2.5f}'.format(my_model_rf_uptake.score(X_train_uptake, y_train_uptake)))"
      ]
    },
    {
      "cell_type": "code",
      "execution_count": null,
      "metadata": {
        "colab": {
          "base_uri": "https://localhost:8080/",
          "height": 544
        },
        "id": "7vU6sDDva71P",
        "outputId": "aac716a1-165f-486e-bdfd-13eb27841145"
      },
      "outputs": [
        {
          "data": {
            "image/png": "[encoded data removed]",
            "text/plain": [
              "<Figure size 648x432 with 1 Axes>"
            ]
          },
          "metadata": {},
          "output_type": "display_data"
        },
        {
          "name": "stdout",
          "output_type": "stream",
          "text": [
            "              precision    recall  f1-score   support\n",
            "\n",
            "           0       0.80      0.79      0.79     22631\n",
            "           1       0.78      0.80      0.79     21736\n",
            "\n",
            "    accuracy                           0.79     44367\n",
            "   macro avg       0.79      0.79      0.79     44367\n",
            "weighted avg       0.79      0.79      0.79     44367\n",
            "\n"
          ]
        }
      ],
      "source": [
        "# prediction and visualization\n",
        "pred_rf_grouped_uptake= my_model_rf_uptake.predict(X_test_uptake)\n",
        "heatconmat(y_test_uptake,pred_rf_grouped_uptake)\n",
        "print ('Random Forest testing Score: {0:2.5f}'.format(my_model_rf_uptake.score(X_test_uptake, y_test_uptake)))"
      ]
    },
    {
      "cell_type": "code",
      "execution_count": null,
      "metadata": {
        "colab": {
          "base_uri": "https://localhost:8080/",
          "height": 121
        },
        "id": "BVmU1xtRa71P",
        "outputId": "f1510454-2dbd-4042-895b-b7699624c9d6"
      },
      "outputs": [
        {
          "data": {
            "text/html": [
              "\n",
              "    <style>\n",
              "    table.eli5-weights tr:hover {\n",
              "        filter: brightness(85%);\n",
              "    }\n",
              "</style>\n",
              "\n",
              "\n",
              "\n",
              "    \n",
              "\n",
              "    \n",
              "\n",
              "    \n",
              "\n",
              "    \n",
              "\n",
              "    \n",
              "\n",
              "    \n",
              "\n",
              "\n",
              "    \n",
              "\n",
              "    \n",
              "\n",
              "    \n",
              "\n",
              "    \n",
              "\n",
              "    \n",
              "\n",
              "    \n",
              "\n",
              "\n",
              "    \n",
              "\n",
              "    \n",
              "\n",
              "    \n",
              "\n",
              "    \n",
              "\n",
              "    \n",
              "        <table class=\"eli5-weights eli5-feature-importances\" style=\"border-collapse: collapse; border: none; margin-top: 0em; table-layout: auto;\">\n",
              "    <thead>\n",
              "    <tr style=\"border: none;\">\n",
              "        <th style=\"padding: 0 1em 0 0.5em; text-align: right; border: none;\">Weight</th>\n",
              "        <th style=\"padding: 0 0.5em 0 0.5em; text-align: left; border: none;\">Feature</th>\n",
              "    </tr>\n",
              "    </thead>\n",
              "    <tbody>\n",
              "    \n",
              "        <tr style=\"background-color: hsl(120, 100.00%, 80.00%); border: none;\">\n",
              "            <td style=\"padding: 0 1em 0 0.5em; text-align: right; border: none;\">\n",
              "                0.1740\n",
              "                \n",
              "                    &plusmn; 0.0008\n",
              "                \n",
              "            </td>\n",
              "            <td style=\"padding: 0 0.5em 0 0.5em; text-align: left; border: none;\">\n",
              "                normalized_BV421_A\n",
              "            </td>\n",
              "        </tr>\n",
              "    \n",
              "        <tr style=\"background-color: hsl(120, 100.00%, 88.42%); border: none;\">\n",
              "            <td style=\"padding: 0 1em 0 0.5em; text-align: right; border: none;\">\n",
              "                0.0798\n",
              "                \n",
              "                    &plusmn; 0.0009\n",
              "                \n",
              "            </td>\n",
              "            <td style=\"padding: 0 0.5em 0 0.5em; text-align: left; border: none;\">\n",
              "                normalized_FITC_A\n",
              "            </td>\n",
              "        </tr>\n",
              "    \n",
              "        <tr style=\"background-color: hsl(120, 100.00%, 90.09%); border: none;\">\n",
              "            <td style=\"padding: 0 1em 0 0.5em; text-align: right; border: none;\">\n",
              "                0.0638\n",
              "                \n",
              "                    &plusmn; 0.0010\n",
              "                \n",
              "            </td>\n",
              "            <td style=\"padding: 0 0.5em 0 0.5em; text-align: left; border: none;\">\n",
              "                normalized_PerCP_A\n",
              "            </td>\n",
              "        </tr>\n",
              "    \n",
              "        <tr style=\"background-color: hsl(120, 100.00%, 93.87%); border: none;\">\n",
              "            <td style=\"padding: 0 1em 0 0.5em; text-align: right; border: none;\">\n",
              "                0.0321\n",
              "                \n",
              "                    &plusmn; 0.0006\n",
              "                \n",
              "            </td>\n",
              "            <td style=\"padding: 0 0.5em 0 0.5em; text-align: left; border: none;\">\n",
              "                normalized_PE_Texas_Red_A\n",
              "            </td>\n",
              "        </tr>\n",
              "    \n",
              "        <tr style=\"background-color: hsl(120, 100.00%, 98.19%); border: none;\">\n",
              "            <td style=\"padding: 0 1em 0 0.5em; text-align: right; border: none;\">\n",
              "                0.0056\n",
              "                \n",
              "                    &plusmn; 0.0002\n",
              "                \n",
              "            </td>\n",
              "            <td style=\"padding: 0 0.5em 0 0.5em; text-align: left; border: none;\">\n",
              "                normalized_Alexa_Fluor_700_A\n",
              "            </td>\n",
              "        </tr>\n",
              "    \n",
              "    \n",
              "    </tbody>\n",
              "</table>\n",
              "    \n",
              "\n",
              "    \n",
              "\n",
              "\n",
              "    \n",
              "\n",
              "    \n",
              "\n",
              "    \n",
              "\n",
              "    \n",
              "\n",
              "    \n",
              "\n",
              "    \n",
              "\n",
              "\n",
              "\n"
            ],
            "text/plain": [
              "<IPython.core.display.HTML object>"
            ]
          },
          "execution_count": 75,
          "metadata": {},
          "output_type": "execute_result"
        }
      ],
      "source": [
        "# Displaying the features importance of the model\n",
        "perm = PermutationImportance(my_model_rf_uptake).fit(X_train_uptake, y_train_uptake)\n",
        "eli5.show_weights(perm, feature_names = X_train_uptake.columns.tolist())"
      ]
    },
    {
      "cell_type": "code",
      "execution_count": null,
      "metadata": {
        "id": "4jCOxYiRwnnZ"
      },
      "outputs": [],
      "source": [
        "# saving the model as a pickle\n",
        "model_name = 'H460_groupkfold_single_rf_uptake'\n",
        "pickle.dump(my_model_rf_uptake, open(data_path + model_name+'.pkl', 'wb'))"
      ]
    },
    {
      "cell_type": "markdown",
      "source": [
        "XGBoost"
      ],
      "metadata": {
        "id": "OG8efDS3y2kI"
      }
    },
    {
      "cell_type": "code",
      "execution_count": null,
      "metadata": {
        "colab": {
          "base_uri": "https://localhost:8080/"
        },
        "id": "i9bHOhqRa71Q",
        "outputId": "8ba3ce74-793a-4544-dadb-fe1f14a98fcc"
      },
      "outputs": [
        {
          "name": "stdout",
          "output_type": "stream",
          "text": [
            "xgboost Score: 0.80830\n"
          ]
        }
      ],
      "source": [
        "# training the model and displaying its performance\n",
        "xgboost_classification = XGBClassifier(n_jobs=-1)\n",
        "my_model_xgboost_grouped_uptake = xgboost_classification.fit(X_train_uptake, y_train_uptake)"
      ]
    },
    {
      "cell_type": "code",
      "execution_count": null,
      "metadata": {
        "colab": {
          "base_uri": "https://localhost:8080/"
        },
        "id": "fnilFd7da71Q",
        "outputId": "d2fdd8a0-607a-4dd7-8870-27b26eace4a3"
      },
      "outputs": [
        {
          "name": "stdout",
          "output_type": "stream",
          "text": [
            "Accuracy: 80.396 (1.496)\n"
          ]
        }
      ],
      "source": [
        "# evaluating the model accuracy using cross validation\n",
        "scores = cross_val_score(xgboost_classification, X_train_uptake, y_train_uptake, scoring='accuracy', cv=cv, n_jobs=-1)\n",
        "print('Cross validation Accuracy: %.3f (%.3f)' % (mean(scores)*100, std(scores)*100))\n",
        "print('xgboost training Score: {0:2.5f}'.format(my_model_xgboost_grouped_uptake.score(X_train_uptake, y_train_uptake)))"
      ]
    },
    {
      "cell_type": "code",
      "execution_count": null,
      "metadata": {
        "colab": {
          "base_uri": "https://localhost:8080/",
          "height": 544
        },
        "id": "_Ek3o6H-a71Q",
        "outputId": "c6e6910e-5598-440a-9731-8126e6f646bc"
      },
      "outputs": [
        {
          "data": {
            "image/png": "[encoded data removed]",
            "text/plain": [
              "<Figure size 648x432 with 1 Axes>"
            ]
          },
          "metadata": {},
          "output_type": "display_data"
        },
        {
          "name": "stdout",
          "output_type": "stream",
          "text": [
            "              precision    recall  f1-score   support\n",
            "\n",
            "           0       0.80      0.79      0.79     22631\n",
            "           1       0.78      0.79      0.78     21736\n",
            "\n",
            "    accuracy                           0.79     44367\n",
            "   macro avg       0.79      0.79      0.79     44367\n",
            "weighted avg       0.79      0.79      0.79     44367\n",
            "\n"
          ]
        }
      ],
      "source": [
        "# prediction and visualization\n",
        "pred_xgboost = my_model_xgboost_grouped_uptake.predict(X_test_uptake)\n",
        "heatconmat(y_test_uptake,pred_xgboost)\n",
        "print('xgboost testing Score: {0:2.5f}'.format(my_model_xgboost_grouped_uptake.score(X_test_uptake, y_test_uptake)))"
      ]
    },
    {
      "cell_type": "code",
      "execution_count": null,
      "metadata": {
        "colab": {
          "base_uri": "https://localhost:8080/",
          "height": 121
        },
        "id": "43XWDQSpa71Q",
        "outputId": "62458313-8201-4be8-c3d8-42e7d198ea78"
      },
      "outputs": [
        {
          "data": {
            "text/html": [
              "\n",
              "    <style>\n",
              "    table.eli5-weights tr:hover {\n",
              "        filter: brightness(85%);\n",
              "    }\n",
              "</style>\n",
              "\n",
              "\n",
              "\n",
              "    \n",
              "\n",
              "    \n",
              "\n",
              "    \n",
              "\n",
              "    \n",
              "\n",
              "    \n",
              "\n",
              "    \n",
              "\n",
              "\n",
              "    \n",
              "\n",
              "    \n",
              "\n",
              "    \n",
              "\n",
              "    \n",
              "\n",
              "    \n",
              "\n",
              "    \n",
              "\n",
              "\n",
              "    \n",
              "\n",
              "    \n",
              "\n",
              "    \n",
              "\n",
              "    \n",
              "\n",
              "    \n",
              "        <table class=\"eli5-weights eli5-feature-importances\" style=\"border-collapse: collapse; border: none; margin-top: 0em; table-layout: auto;\">\n",
              "    <thead>\n",
              "    <tr style=\"border: none;\">\n",
              "        <th style=\"padding: 0 1em 0 0.5em; text-align: right; border: none;\">Weight</th>\n",
              "        <th style=\"padding: 0 0.5em 0 0.5em; text-align: left; border: none;\">Feature</th>\n",
              "    </tr>\n",
              "    </thead>\n",
              "    <tbody>\n",
              "    \n",
              "        <tr style=\"background-color: hsl(120, 100.00%, 80.00%); border: none;\">\n",
              "            <td style=\"padding: 0 1em 0 0.5em; text-align: right; border: none;\">\n",
              "                0.1933\n",
              "                \n",
              "                    &plusmn; 0.0015\n",
              "                \n",
              "            </td>\n",
              "            <td style=\"padding: 0 0.5em 0 0.5em; text-align: left; border: none;\">\n",
              "                normalized_BV421_A\n",
              "            </td>\n",
              "        </tr>\n",
              "    \n",
              "        <tr style=\"background-color: hsl(120, 100.00%, 89.93%); border: none;\">\n",
              "            <td style=\"padding: 0 1em 0 0.5em; text-align: right; border: none;\">\n",
              "                0.0725\n",
              "                \n",
              "                    &plusmn; 0.0007\n",
              "                \n",
              "            </td>\n",
              "            <td style=\"padding: 0 0.5em 0 0.5em; text-align: left; border: none;\">\n",
              "                normalized_FITC_A\n",
              "            </td>\n",
              "        </tr>\n",
              "    \n",
              "        <tr style=\"background-color: hsl(120, 100.00%, 91.56%); border: none;\">\n",
              "            <td style=\"padding: 0 1em 0 0.5em; text-align: right; border: none;\">\n",
              "                0.0564\n",
              "                \n",
              "                    &plusmn; 0.0010\n",
              "                \n",
              "            </td>\n",
              "            <td style=\"padding: 0 0.5em 0 0.5em; text-align: left; border: none;\">\n",
              "                normalized_PerCP_A\n",
              "            </td>\n",
              "        </tr>\n",
              "    \n",
              "        <tr style=\"background-color: hsl(120, 100.00%, 96.53%); border: none;\">\n",
              "            <td style=\"padding: 0 1em 0 0.5em; text-align: right; border: none;\">\n",
              "                0.0159\n",
              "                \n",
              "                    &plusmn; 0.0009\n",
              "                \n",
              "            </td>\n",
              "            <td style=\"padding: 0 0.5em 0 0.5em; text-align: left; border: none;\">\n",
              "                normalized_Alexa_Fluor_700_A\n",
              "            </td>\n",
              "        </tr>\n",
              "    \n",
              "        <tr style=\"background-color: hsl(120, 100.00%, 98.14%); border: none;\">\n",
              "            <td style=\"padding: 0 1em 0 0.5em; text-align: right; border: none;\">\n",
              "                0.0065\n",
              "                \n",
              "                    &plusmn; 0.0008\n",
              "                \n",
              "            </td>\n",
              "            <td style=\"padding: 0 0.5em 0 0.5em; text-align: left; border: none;\">\n",
              "                normalized_PE_Texas_Red_A\n",
              "            </td>\n",
              "        </tr>\n",
              "    \n",
              "    \n",
              "    </tbody>\n",
              "</table>\n",
              "    \n",
              "\n",
              "    \n",
              "\n",
              "\n",
              "    \n",
              "\n",
              "    \n",
              "\n",
              "    \n",
              "\n",
              "    \n",
              "\n",
              "    \n",
              "\n",
              "    \n",
              "\n",
              "\n",
              "\n"
            ],
            "text/plain": [
              "<IPython.core.display.HTML object>"
            ]
          },
          "execution_count": 82,
          "metadata": {},
          "output_type": "execute_result"
        }
      ],
      "source": [
        "# Displaying the features importance of the model\n",
        "perm_xgboost = PermutationImportance(my_model_xgboost_grouped_uptake, random_state=1).fit(X_train_uptake, y_train_uptake)\n",
        "eli5.show_weights(perm_xgboost, feature_names = X_train_uptake.columns.tolist())"
      ]
    },
    {
      "cell_type": "code",
      "execution_count": null,
      "metadata": {
        "id": "9KuBEuBjwzIP"
      },
      "outputs": [],
      "source": [
        "# saving the model as a pickle\n",
        "model_name = 'H460_groupkfold_single_xgboost_uptake'\n",
        "pickle.dump(my_model_xgboost_grouped_uptake, open(data_path+ model_name+'.pkl', 'wb'))"
      ]
    },
    {
      "cell_type": "markdown",
      "source": [
        "SVM"
      ],
      "metadata": {
        "id": "SfUs-I_3034N"
      }
    },
    {
      "cell_type": "code",
      "execution_count": null,
      "metadata": {
        "id": "mzT1QPP9a71Q"
      },
      "outputs": [],
      "source": [
        "# training the model and displaying its performance\n",
        "SVM_uptake = svm.SVC(kernel='linear')\n",
        "my_model_SVM_grouped_uptake = SVM_uptake.fit(X_train_uptake, y_train_uptake)"
      ]
    },
    {
      "cell_type": "code",
      "execution_count": null,
      "metadata": {
        "colab": {
          "base_uri": "https://localhost:8080/"
        },
        "id": "tbHlGxNza71R",
        "outputId": "6d96b23e-7a6e-4da9-afb7-2056402ac229"
      },
      "outputs": [
        {
          "name": "stdout",
          "output_type": "stream",
          "text": [
            "Accuracy: 71.430 (2.464)\n"
          ]
        }
      ],
      "source": [
        "# evaluating the model accuracy using cross validation\n",
        "scores = cross_val_score(SVM_uptake, X_train_uptake, y_train_uptake, scoring='accuracy', cv=cv, n_jobs=-1)\n",
        "print('Accuracy: %.3f (%.3f)' % (mean(scores)*100, std(scores)*100))\n",
        "print ('SVM training Score: {0:2.5f}'.format(my_model_SVM_grouped_uptake.score(X_train_uptake, y_train_uptake)))"
      ]
    },
    {
      "cell_type": "code",
      "execution_count": null,
      "metadata": {
        "colab": {
          "base_uri": "https://localhost:8080/",
          "height": 544
        },
        "id": "5-xqHcuEa71R",
        "outputId": "2ed77117-5c7c-49cf-edd7-a4f0cc0ec010"
      },
      "outputs": [
        {
          "data": {
            "image/png": "[encoded data removed]",
            "text/plain": [
              "<Figure size 648x432 with 1 Axes>"
            ]
          },
          "metadata": {},
          "output_type": "display_data"
        },
        {
          "name": "stdout",
          "output_type": "stream",
          "text": [
            "              precision    recall  f1-score   support\n",
            "\n",
            "           0       0.68      0.81      0.74     22631\n",
            "           1       0.76      0.61      0.67     21736\n",
            "\n",
            "    accuracy                           0.71     44367\n",
            "   macro avg       0.72      0.71      0.71     44367\n",
            "weighted avg       0.72      0.71      0.71     44367\n",
            "\n"
          ]
        }
      ],
      "source": [
        "# prediction and visualization\n",
        "pred_SVM = my_model_SVM_grouped_uptake.predict(X_test_uptake)\n",
        "heatconmat(y_test_uptake,pred_SVM)\n",
        "print('SVM testing Score: {0:2.5f}'.format(my_model_SVM_grouped_uptake.score(X_test_uptake, y_test_uptake)))"
      ]
    },
    {
      "cell_type": "code",
      "execution_count": null,
      "metadata": {
        "id": "MvZb8QZGa71R"
      },
      "outputs": [],
      "source": [
        "# Displaying the features importance of the model\n",
        "perm_SVM = PermutationImportance(my_model_SVM_grouped_uptake, random_state=1).fit(X_train_uptake, y_train_uptake)\n",
        "eli5.show_weights(perm_SVM, feature_names = X_train_uptake.columns.tolist())"
      ]
    },
    {
      "cell_type": "code",
      "execution_count": null,
      "metadata": {
        "id": "t0vU_uoow6FT"
      },
      "outputs": [],
      "source": [
        "# saving the model as a pickle\n",
        "model_name = 'H460_groupkfold_single_SVM_uptake'\n",
        "pickle.dump(my_model_SVM_grouped_uptake, open(data_path+ model_name+'.pkl', 'wb'))"
      ]
    },
    {
      "cell_type": "markdown",
      "source": [
        "#models performance evaluation on new unseen data using the Batch dataset"
      ],
      "metadata": {
        "id": "YH21cLIF1iW9"
      }
    },
    {
      "cell_type": "code",
      "execution_count": null,
      "metadata": {
        "id": "K2d_VoLw-rkB"
      },
      "outputs": [],
      "source": [
        "## opening the saved models\n",
        "\n",
        "# RF\n",
        "model_name = 'H460_groupkfold_single_rf_uptake'\n",
        "a_file = open(data_path+model_name+'.pkl', \"rb\")\n",
        "my_model_single_rf_uptake = pickle.load(a_file)\n",
        "a_file.close()\n",
        "\n",
        "# xgboost\n",
        "model_name = 'H460_groupkfold_single_xgboost_uptake'\n",
        "a_file = open(data_path+model_name+'.pkl', \"rb\")\n",
        "my_model_single_xgboost_uptake = pickle.load(a_file)\n",
        "a_file.close()\n",
        "\n",
        "# SVM\n",
        "model_name = 'H460_groupkfold_single_SVM_uptake'\n",
        "a_file = open(data_path+model_name+'.pkl', \"rb\")\n",
        "my_model_single_SVM_uptake = pickle.load(a_file)\n",
        "a_file.close()"
      ]
    },
    {
      "cell_type": "code",
      "execution_count": null,
      "metadata": {
        "id": "n3swLLA-a71S"
      },
      "outputs": [],
      "source": [
        "# preparint the features and the target vector\n",
        "cols_batch = [col for col in data_batch_uptake.columns if col not in ['Cell_line']]\n",
        "population_data_batch_uptake = data_batch_uptake[cols_batch]\n",
        "#assigning the labels column as target\n",
        "target_batch = data_batch_uptake['Cell_line']"
      ]
    },
    {
      "cell_type": "markdown",
      "source": [
        "RF performance"
      ],
      "metadata": {
        "id": "ENwHNeOu2zFy"
      }
    },
    {
      "cell_type": "code",
      "execution_count": null,
      "metadata": {
        "colab": {
          "base_uri": "https://localhost:8080/",
          "height": 544
        },
        "id": "gVe6SQSNa71S",
        "outputId": "43ae4ff4-53e5-4993-8f38-59329c8a856d"
      },
      "outputs": [
        {
          "data": {
            "image/png": "[encoded data removed]",
            "text/plain": [
              "<Figure size 648x432 with 1 Axes>"
            ]
          },
          "metadata": {},
          "output_type": "display_data"
        },
        {
          "name": "stdout",
          "output_type": "stream",
          "text": [
            "              precision    recall  f1-score   support\n",
            "\n",
            "           0       0.75      0.87      0.81     27258\n",
            "           1       0.86      0.73      0.79     29444\n",
            "\n",
            "    accuracy                           0.80     56702\n",
            "   macro avg       0.81      0.80      0.80     56702\n",
            "weighted avg       0.81      0.80      0.80     56702\n",
            "\n"
          ]
        }
      ],
      "source": [
        "pred_random_forest_uptake_batch = my_model_single_rf_uptake.predict(population_data_batch_uptake)\n",
        "heatconmat(target_batch,pred_random_forest_uptake_batch)\n",
        "accuracy = accuracy_score(pred_random_forest_uptake_batch.astype(int), target_batch.astype(int))\n",
        "accuracy"
      ]
    },
    {
      "cell_type": "markdown",
      "source": [
        "XGBoost performance"
      ],
      "metadata": {
        "id": "Us_Jgach26lU"
      }
    },
    {
      "cell_type": "code",
      "execution_count": null,
      "metadata": {
        "colab": {
          "base_uri": "https://localhost:8080/",
          "height": 544
        },
        "id": "XXQ07jDOa71S",
        "outputId": "adb6b4f2-19db-4e6e-97a2-e9d30def5053"
      },
      "outputs": [
        {
          "data": {
            "image/png": "[encoded data removed]",
            "text/plain": [
              "<Figure size 648x432 with 1 Axes>"
            ]
          },
          "metadata": {},
          "output_type": "display_data"
        },
        {
          "name": "stdout",
          "output_type": "stream",
          "text": [
            "              precision    recall  f1-score   support\n",
            "\n",
            "           0       0.73      0.89      0.80     27258\n",
            "           1       0.87      0.70      0.78     29444\n",
            "\n",
            "    accuracy                           0.79     56702\n",
            "   macro avg       0.80      0.79      0.79     56702\n",
            "weighted avg       0.80      0.79      0.79     56702\n",
            "\n"
          ]
        }
      ],
      "source": [
        "pred_xgboost_uptake_batch = my_model_single_xgboost_uptake.predict(population_data_batch_uptake)\n",
        "heatconmat(target_batch,pred_xgboost_uptake_batch)\n",
        "accuracy = accuracy_score(pred_xgboost_uptake_batch.astype(int), target_batch.astype(int))\n",
        "accuracy"
      ]
    },
    {
      "cell_type": "markdown",
      "source": [
        "SVM performance"
      ],
      "metadata": {
        "id": "d2ZJO9FV3Blw"
      }
    },
    {
      "cell_type": "code",
      "execution_count": null,
      "metadata": {
        "colab": {
          "base_uri": "https://localhost:8080/",
          "height": 544
        },
        "id": "9xnge7ANa71S",
        "outputId": "f98ec921-4825-4f37-e4f0-6b529dcc778d"
      },
      "outputs": [
        {
          "data": {
            "image/png": "[encoded data removed]",
            "text/plain": [
              "<Figure size 648x432 with 1 Axes>"
            ]
          },
          "metadata": {},
          "output_type": "display_data"
        },
        {
          "name": "stdout",
          "output_type": "stream",
          "text": [
            "              precision    recall  f1-score   support\n",
            "\n",
            "           0       0.83      0.82      0.82     27258\n",
            "           1       0.83      0.85      0.84     29444\n",
            "\n",
            "    accuracy                           0.83     56702\n",
            "   macro avg       0.83      0.83      0.83     56702\n",
            "weighted avg       0.83      0.83      0.83     56702\n",
            "\n"
          ]
        }
      ],
      "source": [
        "pred_batch_uptake_SVM = my_model_single_SVM_uptake.predict(population_data_batch_uptake)\n",
        "heatconmat(target_batch,pred_batch_uptake_SVM)\n",
        "accuracy = accuracy_score(pred_batch_uptake_SVM.astype(int), target_batch.astype(int))\n",
        "accuracy"
      ]
    },
    {
      "cell_type": "markdown",
      "source": [
        "#Dimention reduction using principle component analysis -PCA"
      ],
      "metadata": {
        "id": "qVB_lfAO3I3N"
      }
    },
    {
      "cell_type": "markdown",
      "source": [
        "preparing the transformed data"
      ],
      "metadata": {
        "id": "5DEZk2b53ib0"
      }
    },
    {
      "cell_type": "code",
      "execution_count": null,
      "metadata": {
        "id": "9XuC3eQaa71T"
      },
      "outputs": [],
      "source": [
        "# rescaled data\n",
        "train_data_rescaled = scaler.fit_transform(X_train_uptake)\n",
        "test_data_rescaled = scaler.fit_transform(X_test_uptake)\n",
        "batch_data_rescaled = scaler.fit_transform(population_data_batch_uptake)"
      ]
    },
    {
      "cell_type": "code",
      "execution_count": null,
      "metadata": {
        "colab": {
          "base_uri": "https://localhost:8080/",
          "height": 410
        },
        "id": "3IItubfya71T",
        "outputId": "ea27cd01-4df5-4d54-edac-3b7284c2b2be"
      },
      "outputs": [
        {
          "data": {
            "image/png": "[encoded data removed]",
            "text/plain": [
              "<Figure size 864x432 with 1 Axes>"
            ]
          },
          "metadata": {},
          "output_type": "display_data"
        }
      ],
      "source": [
        "# displaying the componantes and the data varience they includes for choosing the number of componnets to reduced to\n",
        "cov_mat = np.cov(train_data_rescaled.T)\n",
        "eigen_vals, eigen_vecs = np.linalg.eig(cov_mat)\n",
        "\n",
        "tot = sum(eigen_vals)\n",
        "var_exp = [(i / tot) for i in sorted(eigen_vals, reverse=True)]\n",
        "cum_var_exp = np.cumsum(var_exp)\n",
        "\n",
        "# plot explained variances\n",
        "plt.rcParams[\"figure.figsize\"] = (12,6)\n",
        "plt.bar(range(1,6), var_exp, alpha=0.5,\n",
        "        align='center', label='individual explained variance')\n",
        "plt.step(range(1,6), cum_var_exp, where='mid',\n",
        "         label='cumulative explained variance')\n",
        "plt.ylabel('Explained variance ratio')\n",
        "plt.xlabel('Principal component index')\n",
        "\n",
        "plt.axhline(y=0.95, color='r', linestyle='-')\n",
        "plt.text(0.5, 0.85, '95% cut-off threshold', color = 'red', fontsize=16)\n",
        "\n",
        "plt.legend(loc='best')\n",
        "plt.show()"
      ]
    },
    {
      "cell_type": "code",
      "execution_count": null,
      "metadata": {
        "id": "pYNL1-J8a71T"
      },
      "outputs": [],
      "source": [
        "pca_uptake = PCA(n_components=3)# choosing the number of dimentions\n",
        "\n",
        "# fit and transform data\n",
        "X_train_pca_uptake = pca_uptake.fit_transform(train_data_rescaled)\n",
        "X_test_pca_uptake = pca_uptake.transform(test_data_rescaled)\n",
        "X_batch_pca_uptake = pca_uptake.transform(batch_data_rescaled)\n"
      ]
    },
    {
      "cell_type": "code",
      "execution_count": null,
      "metadata": {
        "colab": {
          "base_uri": "https://localhost:8080/"
        },
        "id": "tn9c-JQAa71T",
        "outputId": "cf362cdf-6e2c-465a-c4e1-f060d651a842"
      },
      "outputs": [
        {
          "name": "stdout",
          "output_type": "stream",
          "text": [
            "      normalized_BV421_A  normalized_FITC_A  normalized_PE_Texas_Red_A  \\\n",
            "PC-1            0.209826           0.209345                   0.662348   \n",
            "PC-2            0.232603           0.223971                   0.543688   \n",
            "PC-3            0.640806           0.582129                   0.480997   \n",
            "\n",
            "      normalized_Alexa_Fluor_700_A  normalized_PerCP_A  \n",
            "PC-1                      0.600002            0.336808  \n",
            "PC-2                      0.774249            0.025970  \n",
            "PC-3                      0.027693            0.135532  \n"
          ]
        }
      ],
      "source": [
        "# How much each original feature contribute to the components\n",
        "print(pd.DataFrame(np.abs(pca_uptake.components_),columns=X_train_uptake.columns ,index = ['PC-1', 'PC-2', 'PC-3']))"
      ]
    },
    {
      "cell_type": "code",
      "execution_count": null,
      "metadata": {
        "colab": {
          "base_uri": "https://localhost:8080/"
        },
        "id": "xnJRkOa5a71T",
        "outputId": "a5deb882-6bbe-4ef9-d9fc-12147b0e0983"
      },
      "outputs": [
        {
          "name": "stdout",
          "output_type": "stream",
          "text": [
            "     0                             1\n",
            "0  PC1     normalized_PE_Texas_Red_A\n",
            "1  PC2  normalized_Alexa_Fluor_700_A\n",
            "2  PC3            normalized_BV421_A\n"
          ]
        }
      ],
      "source": [
        "# printing the most contributing original feature for each component\n",
        "most_important = np.abs(pca_uptake.components_).argmax(axis=1)\n",
        "initial_feature_names = X_train_uptake.columns\n",
        "most_important_names = initial_feature_names[most_important]\n",
        "dic = {'PC{}'.format(i+1): most_important_names[i] for i in range(3)}\n",
        "pca_results = pd.DataFrame(dic.items())\n",
        "print(pca_results)"
      ]
    },
    {
      "cell_type": "markdown",
      "source": [
        "random forest"
      ],
      "metadata": {
        "id": "HMfKdXM-4HUF"
      }
    },
    {
      "cell_type": "code",
      "execution_count": null,
      "metadata": {
        "colab": {
          "base_uri": "https://localhost:8080/"
        },
        "id": "FVnj-M96a71T",
        "outputId": "773a0b28-c77a-415e-e1bd-a40dbc058705"
      },
      "outputs": [
        {
          "name": "stdout",
          "output_type": "stream",
          "text": [
            "Random Forest Score: 0.72782\n"
          ]
        }
      ],
      "source": [
        "# training the model and evaluating its performance on the testing data\n",
        "my_model_rf_PCA_uptake = my_model_single_rf_uptake.fit(X_train_pca_uptake, y_train_uptake)\n",
        "print ('Random Forest Score: {0:2.5f}'.format(my_model_rf_PCA_uptake.score(X_test_pca_uptake, y_test_uptake)))"
      ]
    },
    {
      "cell_type": "code",
      "execution_count": null,
      "metadata": {
        "colab": {
          "base_uri": "https://localhost:8080/"
        },
        "id": "0-BSFvnLa71T",
        "outputId": "7b7a56e4-6f8b-4443-e442-8fd88c88a7cf"
      },
      "outputs": [
        {
          "data": {
            "text/plain": [
              "0.827554583612571"
            ]
          },
          "execution_count": 47,
          "metadata": {},
          "output_type": "execute_result"
        }
      ],
      "source": [
        "# evaluating the model performance on the Batch data\n",
        "pred_random_forest_uptake_PCA_batch = my_model_rf_PCA_uptake.predict(X_batch_pca_uptake)\n",
        "accuracy = accuracy_score(pred_random_forest_uptake_PCA_batch.astype(int), target_batch.astype(int))\n",
        "accuracy"
      ]
    },
    {
      "cell_type": "markdown",
      "source": [
        "XGBoost"
      ],
      "metadata": {
        "id": "6VbXcKRm4t-j"
      }
    },
    {
      "cell_type": "code",
      "execution_count": null,
      "metadata": {
        "colab": {
          "base_uri": "https://localhost:8080/"
        },
        "id": "Ht53NzsCa71T",
        "outputId": "ed61a404-1fc6-48dc-e51f-eeaa11fb5e9c"
      },
      "outputs": [
        {
          "name": "stdout",
          "output_type": "stream",
          "text": [
            "xgboost Score: 0.72378\n"
          ]
        }
      ],
      "source": [
        "# training the model and evaluating its performance on the testing data\n",
        "my_model_xgboost_PCA_uptake = my_model_single_xgboost_uptake.fit(X_train_pca_uptake, y_train_uptake)\n",
        "\n",
        "print ('xgboost Score: {0:2.5f}'.format(my_model_xgboost_PCA_uptake.score(X_test_pca_uptake, y_test_uptake)))"
      ]
    },
    {
      "cell_type": "code",
      "execution_count": null,
      "metadata": {
        "colab": {
          "base_uri": "https://localhost:8080/"
        },
        "id": "m6stUIuVa71T",
        "outputId": "64dec322-016b-47de-e954-e7542e041636"
      },
      "outputs": [
        {
          "data": {
            "text/plain": [
              "0.8324926810341787"
            ]
          },
          "execution_count": 49,
          "metadata": {},
          "output_type": "execute_result"
        }
      ],
      "source": [
        "# evaluating the model performance on the Batch data\n",
        "pred_xgboost_uptake_PCA_batch = my_model_xgboost_PCA_uptake.predict(X_batch_pca_uptake)\n",
        "accuracy = accuracy_score(pred_xgboost_uptake_PCA_batch.astype(int), target_batch.astype(int))\n",
        "accuracy"
      ]
    },
    {
      "cell_type": "markdown",
      "source": [
        "SVM"
      ],
      "metadata": {
        "id": "clAxAg-H4xHu"
      }
    },
    {
      "cell_type": "code",
      "execution_count": null,
      "metadata": {
        "colab": {
          "base_uri": "https://localhost:8080/"
        },
        "id": "nfj6OO2Ga71U",
        "outputId": "c4f65b3f-4dae-4e33-9da4-62af2e83814a"
      },
      "outputs": [
        {
          "name": "stdout",
          "output_type": "stream",
          "text": [
            "xgboost Score: 0.70081\n"
          ]
        }
      ],
      "source": [
        "# training the model and evaluating its performance on the testing data\n",
        "my_model_SVM_PCA_uptake = my_model_single_SVM_uptake.fit(X_train_pca_uptake, y_train_uptake)\n",
        "\n",
        "print ('xgboost Score: {0:2.5f}'.format(my_model_SVM_PCA_uptake.score(X_test_pca_uptake, y_test_uptake)))"
      ]
    },
    {
      "cell_type": "code",
      "execution_count": null,
      "metadata": {
        "colab": {
          "base_uri": "https://localhost:8080/"
        },
        "id": "cyqOjqApa71U",
        "outputId": "8334ae7c-69c2-4311-de7f-b0a47295f445"
      },
      "outputs": [
        {
          "data": {
            "text/plain": [
              "0.8535677753871116"
            ]
          },
          "execution_count": 51,
          "metadata": {},
          "output_type": "execute_result"
        }
      ],
      "source": [
        "# evaluating the model performance on the Batch data\n",
        "pred_SVM_uptake_PCA_batch = my_model_SVM_PCA_uptake.predict(X_batch_pca_uptake)\n",
        "accuracy = accuracy_score(pred_SVM_uptake_PCA_batch.astype(int), target_batch.astype(int))\n",
        "accuracy"
      ]
    },
    {
      "cell_type": "markdown",
      "metadata": {
        "id": "9F4le7IrNQqk"
      },
      "source": [
        "# all data\n",
        "The data contains the FSC, SSSC and the 5 particle uptake intensities values"
      ]
    },
    {
      "cell_type": "code",
      "execution_count": null,
      "metadata": {
        "id": "QTx5atdsbxhY"
      },
      "outputs": [],
      "source": [
        "# preparing the data - filtering out the uptake features\n",
        "\n",
        "# training and testing data\n",
        "X_train_all = single_cell_data_train.drop(columns = ['BV421_A', 'FITC_A', 'PerCP_A', 'PE_Texas_Red_A', 'Alexa_Fluor_700_A', 'index'], axis =1)\n",
        "X_test_all = single_cell_data_test.drop(columns = ['BV421_A', 'FITC_A', 'PerCP_A', 'PE_Texas_Red_A', 'Alexa_Fluor_700_A', 'index'], axis =1)\n",
        "\n",
        "y_train_all = target_train\n",
        "y_test_all = target_test\n",
        "\n",
        "# spliting the data to testing and validation\n",
        "X_test_all, X_val_all, y_test_all, y_val_all = train_test_split(X_test_all, y_test_all, test_size=0.5, random_state=42)\n",
        "\n",
        "# Batch\n",
        "\n",
        "All_data_batch_all = All_data_batch.drop(columns = ['BV421_A', 'FITC_A', 'PerCP_A', 'PE_Texas_Red_A', 'Alexa_Fluor_700_A'], axis =1)"
      ]
    },
    {
      "cell_type": "markdown",
      "source": [
        "Random forest"
      ],
      "metadata": {
        "id": "mD50ugSFT8AL"
      }
    },
    {
      "cell_type": "code",
      "execution_count": null,
      "metadata": {
        "id": "qaMDwNJ3as84"
      },
      "outputs": [],
      "source": [
        "# training the model and displaying its performance\n",
        "random_forest_all = RandomForestClassifier(n_estimators=1000,n_jobs=-1,max_depth = 12)\n",
        "my_model_rf_all = random_forest_all.fit(X_train_all,y_train_all)\n",
        "display_classification_results(my_model_rf_all, X_train_all, y_train_all, X_val_all, y_val_all);"
      ]
    },
    {
      "cell_type": "code",
      "execution_count": null,
      "metadata": {
        "colab": {
          "base_uri": "https://localhost:8080/"
        },
        "id": "MvOjzYM4cWSV",
        "outputId": "f9bbfa64-2dc2-4eaf-aeaf-42640dc6f9b5"
      },
      "outputs": [
        {
          "name": "stdout",
          "output_type": "stream",
          "text": [
            "Accuracy: 92.552 (0.933)\n"
          ]
        }
      ],
      "source": [
        "# evaluating the model accuracy using cross validation\n",
        "scores = cross_val_score(random_forest_all, X_train_all, y_train_all, scoring='accuracy', cv=cv, n_jobs=-1)\n",
        "print('Accuracy: %.3f (%.3f)' % (mean(scores)*100, std(scores)*100))\n",
        "\n",
        "# printing the model accuracy on the training dataset\n",
        "print ('Random Forest training Score: {0:2.5f}'.format(my_model_rf_all.score(X_train_all, y_train_all)))"
      ]
    },
    {
      "cell_type": "code",
      "execution_count": null,
      "metadata": {
        "colab": {
          "base_uri": "https://localhost:8080/",
          "height": 544
        },
        "id": "FIP1RMB8cWSX",
        "outputId": "f38987c3-300a-4e31-d4e4-21ce4f185a9f"
      },
      "outputs": [
        {
          "data": {
            "image/png": "[encoded data removed]",
            "text/plain": [
              "<Figure size 648x432 with 1 Axes>"
            ]
          },
          "metadata": {},
          "output_type": "display_data"
        },
        {
          "name": "stdout",
          "output_type": "stream",
          "text": [
            "              precision    recall  f1-score   support\n",
            "\n",
            "           0       0.93      0.93      0.93     22631\n",
            "           1       0.93      0.93      0.93     21736\n",
            "\n",
            "    accuracy                           0.93     44367\n",
            "   macro avg       0.93      0.93      0.93     44367\n",
            "weighted avg       0.93      0.93      0.93     44367\n",
            "\n"
          ]
        }
      ],
      "source": [
        "# prediction and visualization\n",
        "pred_rf_grouped_all= my_model_rf_all.predict(X_test_all)\n",
        "heatconmat(y_test_all,pred_rf_grouped_all)\n",
        "print ('Random Forest testing Score: {0:2.5f}'.format(my_model_rf_all.score(X_test_all, y_test_all)))"
      ]
    },
    {
      "cell_type": "code",
      "execution_count": null,
      "metadata": {
        "colab": {
          "base_uri": "https://localhost:8080/",
          "height": 225
        },
        "id": "EBNlpHlFcWSX",
        "outputId": "f27b46b3-3e55-4e65-bb81-ca2d1edaa645"
      },
      "outputs": [
        {
          "data": {
            "text/html": [
              "\n",
              "    <style>\n",
              "    table.eli5-weights tr:hover {\n",
              "        filter: brightness(85%);\n",
              "    }\n",
              "</style>\n",
              "\n",
              "\n",
              "\n",
              "    \n",
              "\n",
              "    \n",
              "\n",
              "    \n",
              "\n",
              "    \n",
              "\n",
              "    \n",
              "\n",
              "    \n",
              "\n",
              "\n",
              "    \n",
              "\n",
              "    \n",
              "\n",
              "    \n",
              "\n",
              "    \n",
              "\n",
              "    \n",
              "\n",
              "    \n",
              "\n",
              "\n",
              "    \n",
              "\n",
              "    \n",
              "\n",
              "    \n",
              "\n",
              "    \n",
              "\n",
              "    \n",
              "        <table class=\"eli5-weights eli5-feature-importances\" style=\"border-collapse: collapse; border: none; margin-top: 0em; table-layout: auto;\">\n",
              "    <thead>\n",
              "    <tr style=\"border: none;\">\n",
              "        <th style=\"padding: 0 1em 0 0.5em; text-align: right; border: none;\">Weight</th>\n",
              "        <th style=\"padding: 0 0.5em 0 0.5em; text-align: left; border: none;\">Feature</th>\n",
              "    </tr>\n",
              "    </thead>\n",
              "    <tbody>\n",
              "    \n",
              "        <tr style=\"background-color: hsl(120, 100.00%, 80.00%); border: none;\">\n",
              "            <td style=\"padding: 0 1em 0 0.5em; text-align: right; border: none;\">\n",
              "                0.3406\n",
              "                \n",
              "                    &plusmn; 0.0017\n",
              "                \n",
              "            </td>\n",
              "            <td style=\"padding: 0 0.5em 0 0.5em; text-align: left; border: none;\">\n",
              "                SSC_A\n",
              "            </td>\n",
              "        </tr>\n",
              "    \n",
              "        <tr style=\"background-color: hsl(120, 100.00%, 83.38%); border: none;\">\n",
              "            <td style=\"padding: 0 1em 0 0.5em; text-align: right; border: none;\">\n",
              "                0.2614\n",
              "                \n",
              "                    &plusmn; 0.0019\n",
              "                \n",
              "            </td>\n",
              "            <td style=\"padding: 0 0.5em 0 0.5em; text-align: left; border: none;\">\n",
              "                SSC_H\n",
              "            </td>\n",
              "        </tr>\n",
              "    \n",
              "        <tr style=\"background-color: hsl(120, 100.00%, 95.73%); border: none;\">\n",
              "            <td style=\"padding: 0 1em 0 0.5em; text-align: right; border: none;\">\n",
              "                0.0376\n",
              "                \n",
              "                    &plusmn; 0.0008\n",
              "                \n",
              "            </td>\n",
              "            <td style=\"padding: 0 0.5em 0 0.5em; text-align: left; border: none;\">\n",
              "                normalized_PerCP_A\n",
              "            </td>\n",
              "        </tr>\n",
              "    \n",
              "        <tr style=\"background-color: hsl(120, 100.00%, 96.13%); border: none;\">\n",
              "            <td style=\"padding: 0 1em 0 0.5em; text-align: right; border: none;\">\n",
              "                0.0325\n",
              "                \n",
              "                    &plusmn; 0.0007\n",
              "                \n",
              "            </td>\n",
              "            <td style=\"padding: 0 0.5em 0 0.5em; text-align: left; border: none;\">\n",
              "                FSC_A\n",
              "            </td>\n",
              "        </tr>\n",
              "    \n",
              "        <tr style=\"background-color: hsl(120, 100.00%, 96.49%); border: none;\">\n",
              "            <td style=\"padding: 0 1em 0 0.5em; text-align: right; border: none;\">\n",
              "                0.0284\n",
              "                \n",
              "                    &plusmn; 0.0002\n",
              "                \n",
              "            </td>\n",
              "            <td style=\"padding: 0 0.5em 0 0.5em; text-align: left; border: none;\">\n",
              "                SSC_W\n",
              "            </td>\n",
              "        </tr>\n",
              "    \n",
              "        <tr style=\"background-color: hsl(120, 100.00%, 97.41%); border: none;\">\n",
              "            <td style=\"padding: 0 1em 0 0.5em; text-align: right; border: none;\">\n",
              "                0.0184\n",
              "                \n",
              "                    &plusmn; 0.0002\n",
              "                \n",
              "            </td>\n",
              "            <td style=\"padding: 0 0.5em 0 0.5em; text-align: left; border: none;\">\n",
              "                normalized_PE_Texas_Red_A\n",
              "            </td>\n",
              "        </tr>\n",
              "    \n",
              "        <tr style=\"background-color: hsl(120, 100.00%, 97.64%); border: none;\">\n",
              "            <td style=\"padding: 0 1em 0 0.5em; text-align: right; border: none;\">\n",
              "                0.0161\n",
              "                \n",
              "                    &plusmn; 0.0002\n",
              "                \n",
              "            </td>\n",
              "            <td style=\"padding: 0 0.5em 0 0.5em; text-align: left; border: none;\">\n",
              "                normalized_FITC_A\n",
              "            </td>\n",
              "        </tr>\n",
              "    \n",
              "        <tr style=\"background-color: hsl(120, 100.00%, 98.15%); border: none;\">\n",
              "            <td style=\"padding: 0 1em 0 0.5em; text-align: right; border: none;\">\n",
              "                0.0114\n",
              "                \n",
              "                    &plusmn; 0.0002\n",
              "                \n",
              "            </td>\n",
              "            <td style=\"padding: 0 0.5em 0 0.5em; text-align: left; border: none;\">\n",
              "                FSC_H\n",
              "            </td>\n",
              "        </tr>\n",
              "    \n",
              "        <tr style=\"background-color: hsl(120, 100.00%, 98.30%); border: none;\">\n",
              "            <td style=\"padding: 0 1em 0 0.5em; text-align: right; border: none;\">\n",
              "                0.0100\n",
              "                \n",
              "                    &plusmn; 0.0003\n",
              "                \n",
              "            </td>\n",
              "            <td style=\"padding: 0 0.5em 0 0.5em; text-align: left; border: none;\">\n",
              "                FSC_W\n",
              "            </td>\n",
              "        </tr>\n",
              "    \n",
              "        <tr style=\"background-color: hsl(120, 100.00%, 98.87%); border: none;\">\n",
              "            <td style=\"padding: 0 1em 0 0.5em; text-align: right; border: none;\">\n",
              "                0.0056\n",
              "                \n",
              "                    &plusmn; 0.0002\n",
              "                \n",
              "            </td>\n",
              "            <td style=\"padding: 0 0.5em 0 0.5em; text-align: left; border: none;\">\n",
              "                normalized_BV421_A\n",
              "            </td>\n",
              "        </tr>\n",
              "    \n",
              "        <tr style=\"background-color: hsl(120, 100.00%, 99.49%); border: none;\">\n",
              "            <td style=\"padding: 0 1em 0 0.5em; text-align: right; border: none;\">\n",
              "                0.0018\n",
              "                \n",
              "                    &plusmn; 0.0001\n",
              "                \n",
              "            </td>\n",
              "            <td style=\"padding: 0 0.5em 0 0.5em; text-align: left; border: none;\">\n",
              "                normalized_Alexa_Fluor_700_A\n",
              "            </td>\n",
              "        </tr>\n",
              "    \n",
              "    \n",
              "    </tbody>\n",
              "</table>\n",
              "    \n",
              "\n",
              "    \n",
              "\n",
              "\n",
              "    \n",
              "\n",
              "    \n",
              "\n",
              "    \n",
              "\n",
              "    \n",
              "\n",
              "    \n",
              "\n",
              "    \n",
              "\n",
              "\n",
              "\n"
            ],
            "text/plain": [
              "<IPython.core.display.HTML object>"
            ]
          },
          "execution_count": 75,
          "metadata": {},
          "output_type": "execute_result"
        }
      ],
      "source": [
        "# Displaying the features importance of the model\n",
        "perm = PermutationImportance(my_model_rf_all).fit(X_train_all, y_train_all)\n",
        "eli5.show_weights(perm, feature_names = X_train_all.columns.tolist())"
      ]
    },
    {
      "cell_type": "code",
      "execution_count": null,
      "metadata": {
        "id": "jmnUYxSvl0WW"
      },
      "outputs": [],
      "source": [
        "# saving the model as a pickle - need to assign the wanted chip name\n",
        "model_name = 'H460_groupkfold_single_rf_all'\n",
        "pickle.dump(my_model_rf_all, open(data_path+ model_name+'.pkl', 'wb'))"
      ]
    },
    {
      "cell_type": "markdown",
      "source": [
        "XGBoost"
      ],
      "metadata": {
        "id": "CAVImaDzUVcK"
      }
    },
    {
      "cell_type": "code",
      "execution_count": null,
      "metadata": {
        "id": "DNrBmagLcWSX"
      },
      "outputs": [],
      "source": [
        "# training the model and displaying its performance\n",
        "xgboost_classification = XGBClassifier(n_jobs=-1)\n",
        "my_model_xgboost_grouped_all = xgboost_classification.fit(X_train_all, y_train_all)"
      ]
    },
    {
      "cell_type": "code",
      "execution_count": null,
      "metadata": {
        "colab": {
          "base_uri": "https://localhost:8080/"
        },
        "id": "W5c8d6XTcWSX",
        "outputId": "cb0464be-9818-4a6c-e120-b0cb98165fbc"
      },
      "outputs": [
        {
          "name": "stdout",
          "output_type": "stream",
          "text": [
            "Accuracy: 91.904 (0.877)\n"
          ]
        }
      ],
      "source": [
        "# evaluating the model accuracy using cross validation\n",
        "scores = cross_val_score(xgboost_classification, X_train_all, y_train_all, scoring='accuracy', cv=cv, n_jobs=-1)\n",
        "print('Accuracy: %.3f (%.3f)' % (mean(scores)*100, std(scores)*100))\n",
        "\n",
        "print ('xgboost Score: {0:2.5f}'.format(my_model_xgboost_grouped_all.score(X_train_all, y_train_all)))"
      ]
    },
    {
      "cell_type": "code",
      "execution_count": null,
      "metadata": {
        "colab": {
          "base_uri": "https://localhost:8080/",
          "height": 544
        },
        "id": "T9tRPbpjcWSY",
        "outputId": "caff411d-ec81-4c5b-9d85-f40bffe68f0d"
      },
      "outputs": [
        {
          "data": {
            "image/png": "[encoded data removed]",
            "text/plain": [
              "<Figure size 648x432 with 1 Axes>"
            ]
          },
          "metadata": {},
          "output_type": "display_data"
        },
        {
          "name": "stdout",
          "output_type": "stream",
          "text": [
            "              precision    recall  f1-score   support\n",
            "\n",
            "           0       0.93      0.93      0.93     22631\n",
            "           1       0.93      0.92      0.93     21736\n",
            "\n",
            "    accuracy                           0.93     44367\n",
            "   macro avg       0.93      0.93      0.93     44367\n",
            "weighted avg       0.93      0.93      0.93     44367\n",
            "\n"
          ]
        }
      ],
      "source": [
        "# prediction and visualization\n",
        "pred_xgboost = my_model_xgboost_grouped_all.predict(X_test_all)\n",
        "heatconmat(y_test_all,pred_xgboost)\n",
        "print ('xgboost Score: {0:2.5f}'.format(my_model_xgboost_grouped_all.score(X_test_all, y_test_all)))"
      ]
    },
    {
      "cell_type": "code",
      "execution_count": null,
      "metadata": {
        "colab": {
          "base_uri": "https://localhost:8080/",
          "height": 225
        },
        "id": "96c8B48ncWSY",
        "outputId": "09c9af4b-25a3-4df8-dedf-cd6d6bf55305"
      },
      "outputs": [
        {
          "data": {
            "text/html": [
              "\n",
              "    <style>\n",
              "    table.eli5-weights tr:hover {\n",
              "        filter: brightness(85%);\n",
              "    }\n",
              "</style>\n",
              "\n",
              "\n",
              "\n",
              "    \n",
              "\n",
              "    \n",
              "\n",
              "    \n",
              "\n",
              "    \n",
              "\n",
              "    \n",
              "\n",
              "    \n",
              "\n",
              "\n",
              "    \n",
              "\n",
              "    \n",
              "\n",
              "    \n",
              "\n",
              "    \n",
              "\n",
              "    \n",
              "\n",
              "    \n",
              "\n",
              "\n",
              "    \n",
              "\n",
              "    \n",
              "\n",
              "    \n",
              "\n",
              "    \n",
              "\n",
              "    \n",
              "        <table class=\"eli5-weights eli5-feature-importances\" style=\"border-collapse: collapse; border: none; margin-top: 0em; table-layout: auto;\">\n",
              "    <thead>\n",
              "    <tr style=\"border: none;\">\n",
              "        <th style=\"padding: 0 1em 0 0.5em; text-align: right; border: none;\">Weight</th>\n",
              "        <th style=\"padding: 0 0.5em 0 0.5em; text-align: left; border: none;\">Feature</th>\n",
              "    </tr>\n",
              "    </thead>\n",
              "    <tbody>\n",
              "    \n",
              "        <tr style=\"background-color: hsl(120, 100.00%, 80.00%); border: none;\">\n",
              "            <td style=\"padding: 0 1em 0 0.5em; text-align: right; border: none;\">\n",
              "                0.3543\n",
              "                \n",
              "                    &plusmn; 0.0013\n",
              "                \n",
              "            </td>\n",
              "            <td style=\"padding: 0 0.5em 0 0.5em; text-align: left; border: none;\">\n",
              "                SSC_A\n",
              "            </td>\n",
              "        </tr>\n",
              "    \n",
              "        <tr style=\"background-color: hsl(120, 100.00%, 88.63%); border: none;\">\n",
              "            <td style=\"padding: 0 1em 0 0.5em; text-align: right; border: none;\">\n",
              "                0.1581\n",
              "                \n",
              "                    &plusmn; 0.0008\n",
              "                \n",
              "            </td>\n",
              "            <td style=\"padding: 0 0.5em 0 0.5em; text-align: left; border: none;\">\n",
              "                SSC_H\n",
              "            </td>\n",
              "        </tr>\n",
              "    \n",
              "        <tr style=\"background-color: hsl(120, 100.00%, 95.81%); border: none;\">\n",
              "            <td style=\"padding: 0 1em 0 0.5em; text-align: right; border: none;\">\n",
              "                0.0380\n",
              "                \n",
              "                    &plusmn; 0.0006\n",
              "                \n",
              "            </td>\n",
              "            <td style=\"padding: 0 0.5em 0 0.5em; text-align: left; border: none;\">\n",
              "                FSC_A\n",
              "            </td>\n",
              "        </tr>\n",
              "    \n",
              "        <tr style=\"background-color: hsl(120, 100.00%, 95.94%); border: none;\">\n",
              "            <td style=\"padding: 0 1em 0 0.5em; text-align: right; border: none;\">\n",
              "                0.0363\n",
              "                \n",
              "                    &plusmn; 0.0008\n",
              "                \n",
              "            </td>\n",
              "            <td style=\"padding: 0 0.5em 0 0.5em; text-align: left; border: none;\">\n",
              "                normalized_PerCP_A\n",
              "            </td>\n",
              "        </tr>\n",
              "    \n",
              "        <tr style=\"background-color: hsl(120, 100.00%, 97.79%); border: none;\">\n",
              "            <td style=\"padding: 0 1em 0 0.5em; text-align: right; border: none;\">\n",
              "                0.0152\n",
              "                \n",
              "                    &plusmn; 0.0005\n",
              "                \n",
              "            </td>\n",
              "            <td style=\"padding: 0 0.5em 0 0.5em; text-align: left; border: none;\">\n",
              "                SSC_W\n",
              "            </td>\n",
              "        </tr>\n",
              "    \n",
              "        <tr style=\"background-color: hsl(120, 100.00%, 98.13%); border: none;\">\n",
              "            <td style=\"padding: 0 1em 0 0.5em; text-align: right; border: none;\">\n",
              "                0.0120\n",
              "                \n",
              "                    &plusmn; 0.0005\n",
              "                \n",
              "            </td>\n",
              "            <td style=\"padding: 0 0.5em 0 0.5em; text-align: left; border: none;\">\n",
              "                normalized_FITC_A\n",
              "            </td>\n",
              "        </tr>\n",
              "    \n",
              "        <tr style=\"background-color: hsl(120, 100.00%, 98.86%); border: none;\">\n",
              "            <td style=\"padding: 0 1em 0 0.5em; text-align: right; border: none;\">\n",
              "                0.0059\n",
              "                \n",
              "                    &plusmn; 0.0003\n",
              "                \n",
              "            </td>\n",
              "            <td style=\"padding: 0 0.5em 0 0.5em; text-align: left; border: none;\">\n",
              "                FSC_W\n",
              "            </td>\n",
              "        </tr>\n",
              "    \n",
              "        <tr style=\"background-color: hsl(120, 100.00%, 99.00%); border: none;\">\n",
              "            <td style=\"padding: 0 1em 0 0.5em; text-align: right; border: none;\">\n",
              "                0.0049\n",
              "                \n",
              "                    &plusmn; 0.0004\n",
              "                \n",
              "            </td>\n",
              "            <td style=\"padding: 0 0.5em 0 0.5em; text-align: left; border: none;\">\n",
              "                normalized_PE_Texas_Red_A\n",
              "            </td>\n",
              "        </tr>\n",
              "    \n",
              "        <tr style=\"background-color: hsl(120, 100.00%, 99.28%); border: none;\">\n",
              "            <td style=\"padding: 0 1em 0 0.5em; text-align: right; border: none;\">\n",
              "                0.0031\n",
              "                \n",
              "                    &plusmn; 0.0004\n",
              "                \n",
              "            </td>\n",
              "            <td style=\"padding: 0 0.5em 0 0.5em; text-align: left; border: none;\">\n",
              "                normalized_BV421_A\n",
              "            </td>\n",
              "        </tr>\n",
              "    \n",
              "        <tr style=\"background-color: hsl(120, 100.00%, 99.82%); border: none;\">\n",
              "            <td style=\"padding: 0 1em 0 0.5em; text-align: right; border: none;\">\n",
              "                0.0004\n",
              "                \n",
              "                    &plusmn; 0.0001\n",
              "                \n",
              "            </td>\n",
              "            <td style=\"padding: 0 0.5em 0 0.5em; text-align: left; border: none;\">\n",
              "                FSC_H\n",
              "            </td>\n",
              "        </tr>\n",
              "    \n",
              "        <tr style=\"background-color: hsl(0, 100.00%, 99.93%); border: none;\">\n",
              "            <td style=\"padding: 0 1em 0 0.5em; text-align: right; border: none;\">\n",
              "                -0.0001\n",
              "                \n",
              "                    &plusmn; 0.0000\n",
              "                \n",
              "            </td>\n",
              "            <td style=\"padding: 0 0.5em 0 0.5em; text-align: left; border: none;\">\n",
              "                normalized_Alexa_Fluor_700_A\n",
              "            </td>\n",
              "        </tr>\n",
              "    \n",
              "    \n",
              "    </tbody>\n",
              "</table>\n",
              "    \n",
              "\n",
              "    \n",
              "\n",
              "\n",
              "    \n",
              "\n",
              "    \n",
              "\n",
              "    \n",
              "\n",
              "    \n",
              "\n",
              "    \n",
              "\n",
              "    \n",
              "\n",
              "\n",
              "\n"
            ],
            "text/plain": [
              "<IPython.core.display.HTML object>"
            ]
          },
          "execution_count": 82,
          "metadata": {},
          "output_type": "execute_result"
        }
      ],
      "source": [
        "# Displaying the features importance of the model\n",
        "perm_xgboost = PermutationImportance(my_model_xgboost_grouped_all, random_state=1).fit(X_train_all, y_train_all)\n",
        "eli5.show_weights(perm_xgboost, feature_names = X_train_all.columns.tolist())"
      ]
    },
    {
      "cell_type": "code",
      "execution_count": null,
      "metadata": {
        "id": "gb40hchGxNBL"
      },
      "outputs": [],
      "source": [
        "# saving the model as a pickle - need to assign the wanted chip name\n",
        "model_name = 'H460_groupkfold_single_xgboost_all'\n",
        "pickle.dump(my_model_xgboost_grouped_all, open(data_path+ model_name+'.pkl', 'wb'))"
      ]
    },
    {
      "cell_type": "markdown",
      "source": [
        "SVM"
      ],
      "metadata": {
        "id": "-hvUrcvJVZGD"
      }
    },
    {
      "cell_type": "code",
      "execution_count": null,
      "metadata": {
        "id": "YN8DVwgEcWSY"
      },
      "outputs": [],
      "source": [
        "# training the model and displaying its performance\n",
        "SVM_all = svm.SVC(kernel='linear')\n",
        "my_model_SVM_grouped_all = SVM_all.fit(X_train_all, y_train_all)"
      ]
    },
    {
      "cell_type": "code",
      "execution_count": null,
      "metadata": {
        "colab": {
          "base_uri": "https://localhost:8080/"
        },
        "id": "YI8jjGk6cWSY",
        "outputId": "e61d07c0-71cd-4391-c3d8-ec0a9cd45b3d"
      },
      "outputs": [
        {
          "name": "stdout",
          "output_type": "stream",
          "text": [
            "Accuracy: 91.250 (1.001)\n"
          ]
        }
      ],
      "source": [
        "# evaluating the model accuracy using cross validation\n",
        "scores = cross_val_score(SVM_all, X_train_all, y_train_all, scoring='accuracy', cv=cv, n_jobs=-1)\n",
        "print('Accuracy: %.3f (%.3f)' % (mean(scores)*100, std(scores)*100))\n",
        "\n",
        "print ('SVM Score: {0:2.5f}'.format(my_model_SVM_grouped_all.score(X_train_all, y_train_all)))"
      ]
    },
    {
      "cell_type": "code",
      "execution_count": null,
      "metadata": {
        "colab": {
          "base_uri": "https://localhost:8080/",
          "height": 544
        },
        "id": "zMc3eh6fcWSZ",
        "outputId": "6662692f-6aba-4c10-f7b1-1358060b90fd"
      },
      "outputs": [
        {
          "data": {
            "image/png": "[encoded data removed]",
            "text/plain": [
              "<Figure size 648x432 with 1 Axes>"
            ]
          },
          "metadata": {},
          "output_type": "display_data"
        },
        {
          "name": "stdout",
          "output_type": "stream",
          "text": [
            "              precision    recall  f1-score   support\n",
            "\n",
            "           0       0.92      0.92      0.92     22631\n",
            "           1       0.92      0.91      0.92     21736\n",
            "\n",
            "    accuracy                           0.92     44367\n",
            "   macro avg       0.92      0.92      0.92     44367\n",
            "weighted avg       0.92      0.92      0.92     44367\n",
            "\n"
          ]
        }
      ],
      "source": [
        "# prediction and visualization\n",
        "pred_SVM = my_model_SVM_grouped_all.predict(X_test_all)\n",
        "heatconmat(y_test_all,pred_SVM)\n",
        "print('SVM Score: {0:2.5f}'.format(my_model_SVM_grouped_all.score(X_test_all, y_test_all)))"
      ]
    },
    {
      "cell_type": "code",
      "execution_count": null,
      "metadata": {
        "id": "RB25tBfwcWSZ"
      },
      "outputs": [],
      "source": [
        "# Displaying the features importance of the model\n",
        "perm_SVM = PermutationImportance(my_model_SVM_grouped_all, random_state=1).fit(X_train_all, y_train_all)\n",
        "eli5.show_weights(perm_SVM, feature_names = X_train_all.columns.tolist())"
      ]
    },
    {
      "cell_type": "code",
      "execution_count": null,
      "metadata": {
        "id": "voCWWUskxS9n"
      },
      "outputs": [],
      "source": [
        "# saving the model as a pickle - need to assign the wanted chip name\n",
        "model_name = 'H460_groupkfold_single_SVM_all'\n",
        "pickle.dump(my_model_SVM_grouped_all, open(data_path+ model_name+'.pkl', 'wb'))"
      ]
    },
    {
      "cell_type": "markdown",
      "source": [
        "#models performance evaluation on new unseen data using the Batch dataset\n"
      ],
      "metadata": {
        "id": "VMfPunl9Vo6h"
      }
    },
    {
      "cell_type": "code",
      "execution_count": null,
      "metadata": {
        "id": "P1mnIjKRfl0b"
      },
      "outputs": [],
      "source": [
        "## opening the saved models\n",
        "\n",
        "# RF\n",
        "model_name = 'H460_groupkfold_single_rf_all'\n",
        "a_file = open(data_path+model_name+'.pkl', \"rb\")\n",
        "my_model_single_rf_all = pickle.load(a_file)\n",
        "a_file.close()\n",
        "\n",
        "# xgboost\n",
        "model_name = 'H460_groupkfold_single_xgboost_all'\n",
        "a_file = open(data_path+model_name+'.pkl', \"rb\")\n",
        "my_model_single_xgboost_all = pickle.load(a_file)\n",
        "a_file.close()\n",
        "\n",
        "# SVM\n",
        "model_name = 'H460_groupkfold_single_SVM_all'\n",
        "a_file = open(data_path+model_name+'.pkl', \"rb\")\n",
        "my_model_single_SVM_all = pickle.load(a_file)\n",
        "a_file.close()"
      ]
    },
    {
      "cell_type": "code",
      "execution_count": null,
      "metadata": {
        "id": "OzcKpL7xcWSZ"
      },
      "outputs": [],
      "source": [
        "# preparint the features and the target vector\n",
        "cols_batch = [col for col in All_data_batch_all.columns if col not in ['Cell_line']]\n",
        "population_data_batch_all = All_data_batch_all[cols_batch]\n",
        "#assigning the labels column as target\n",
        "target_batch = All_data_batch_all['Cell_line']"
      ]
    },
    {
      "cell_type": "markdown",
      "source": [
        "Random forest"
      ],
      "metadata": {
        "id": "Kdrh_Bjb6ahy"
      }
    },
    {
      "cell_type": "code",
      "execution_count": null,
      "metadata": {
        "colab": {
          "base_uri": "https://localhost:8080/",
          "height": 554
        },
        "id": "0_wM6BVscWSZ",
        "outputId": "655c1ce9-ca20-43f3-bbf7-7637e93dc3c4"
      },
      "outputs": [
        {
          "data": {
            "image/png": "[encoded data removed]",
            "text/plain": [
              "<Figure size 648x432 with 1 Axes>"
            ]
          },
          "metadata": {},
          "output_type": "display_data"
        },
        {
          "name": "stdout",
          "output_type": "stream",
          "text": [
            "              precision    recall  f1-score   support\n",
            "\n",
            "           0       0.72      0.90      0.80     27258\n",
            "           1       0.88      0.68      0.76     29444\n",
            "\n",
            "    accuracy                           0.78     56702\n",
            "   macro avg       0.80      0.79      0.78     56702\n",
            "weighted avg       0.80      0.78      0.78     56702\n",
            "\n"
          ]
        }
      ],
      "source": [
        "pred_random_forest_all_batch = my_model_single_rf_all.predict(population_data_batch_all)\n",
        "heatconmat(target_batch,pred_random_forest_all_batch)\n",
        "accuracy = accuracy_score(pred_random_forest_all_batch.astype(int), target_batch.astype(int))\n",
        "accuracy"
      ]
    },
    {
      "cell_type": "markdown",
      "source": [
        "XGBoost"
      ],
      "metadata": {
        "id": "s4K6e3z86iZ9"
      }
    },
    {
      "cell_type": "code",
      "execution_count": null,
      "metadata": {
        "colab": {
          "base_uri": "https://localhost:8080/",
          "height": 554
        },
        "id": "yybDgP91cWSZ",
        "outputId": "26a17b00-e275-459c-c7b3-9b167a99c6d8"
      },
      "outputs": [
        {
          "data": {
            "image/png": "[encoded data removed]",
            "text/plain": [
              "<Figure size 648x432 with 1 Axes>"
            ]
          },
          "metadata": {},
          "output_type": "display_data"
        },
        {
          "name": "stdout",
          "output_type": "stream",
          "text": [
            "              precision    recall  f1-score   support\n",
            "\n",
            "           0       0.73      0.92      0.81     27258\n",
            "           1       0.90      0.69      0.78     29444\n",
            "\n",
            "    accuracy                           0.80     56702\n",
            "   macro avg       0.82      0.80      0.80     56702\n",
            "weighted avg       0.82      0.80      0.80     56702\n",
            "\n"
          ]
        }
      ],
      "source": [
        "pred_xgboost_all_batch = my_model_single_xgboost_all.predict(population_data_batch_all)\n",
        "heatconmat(target_batch,pred_xgboost_all_batch)\n",
        "accuracy = accuracy_score(pred_xgboost_all_batch.astype(int), target_batch.astype(int))\n",
        "accuracy"
      ]
    },
    {
      "cell_type": "markdown",
      "source": [
        "SVM"
      ],
      "metadata": {
        "id": "st08-3136mXZ"
      }
    },
    {
      "cell_type": "code",
      "execution_count": null,
      "metadata": {
        "colab": {
          "base_uri": "https://localhost:8080/",
          "height": 554
        },
        "id": "Ft9qoHGkcWSa",
        "outputId": "9afcf3e9-b28a-40c8-e0e9-0ab50d0a2071"
      },
      "outputs": [
        {
          "data": {
            "image/png": "[encoded data removed]",
            "text/plain": [
              "<Figure size 648x432 with 1 Axes>"
            ]
          },
          "metadata": {},
          "output_type": "display_data"
        },
        {
          "name": "stdout",
          "output_type": "stream",
          "text": [
            "              precision    recall  f1-score   support\n",
            "\n",
            "           0       0.69      0.81      0.74     27258\n",
            "           1       0.79      0.66      0.72     29444\n",
            "\n",
            "    accuracy                           0.73     56702\n",
            "   macro avg       0.74      0.73      0.73     56702\n",
            "weighted avg       0.74      0.73      0.73     56702\n",
            "\n"
          ]
        }
      ],
      "source": [
        "pred_batch_all_SVM = my_model_single_SVM_all.predict(population_data_batch_all)\n",
        "heatconmat(target_batch,pred_batch_all_SVM)\n",
        "accuracy = accuracy_score(pred_batch_all_SVM.astype(int), target_batch.astype(int))\n",
        "accuracy"
      ]
    },
    {
      "cell_type": "markdown",
      "source": [
        "#Dimention reduction using principle component analysis -PCA"
      ],
      "metadata": {
        "id": "gKsZaDAhbeSO"
      }
    },
    {
      "cell_type": "markdown",
      "source": [
        "preparing the transformed data"
      ],
      "metadata": {
        "id": "kj2krCKDcxAx"
      }
    },
    {
      "cell_type": "code",
      "execution_count": null,
      "metadata": {
        "id": "NmNEpeoNcWSa"
      },
      "outputs": [],
      "source": [
        "# rescaling the data\n",
        "train_data_rescaled = scaler.fit_transform(X_train_all)\n",
        "test_data_rescaled = scaler.fit_transform(X_test_all)\n",
        "batch_data_rescaled = scaler.fit_transform(population_data_batch_all)"
      ]
    },
    {
      "cell_type": "code",
      "execution_count": null,
      "metadata": {
        "colab": {
          "base_uri": "https://localhost:8080/",
          "height": 410
        },
        "id": "6r6V3A4rcWSa",
        "outputId": "bda62e24-b103-4c56-f459-7c2d1ac699d0"
      },
      "outputs": [
        {
          "data": {
            "image/png": "[encoded data removed]",
            "text/plain": [
              "<Figure size 864x432 with 1 Axes>"
            ]
          },
          "metadata": {},
          "output_type": "display_data"
        }
      ],
      "source": [
        "# displaying the componantes and the data varience they includes for choosing the number of componnets to reduced to\n",
        "cov_mat = np.cov(train_data_rescaled.T)\n",
        "eigen_vals, eigen_vecs = np.linalg.eig(cov_mat)\n",
        "\n",
        "tot = sum(eigen_vals)\n",
        "var_exp = [(i / tot) for i in sorted(eigen_vals, reverse=True)]\n",
        "cum_var_exp = np.cumsum(var_exp)\n",
        "\n",
        "# plot explained variances\n",
        "plt.rcParams[\"figure.figsize\"] = (12,6)\n",
        "plt.bar(range(1,12), var_exp, alpha=0.5,\n",
        "        align='center', label='individual explained variance')\n",
        "plt.step(range(1,12), cum_var_exp, where='mid',\n",
        "         label='cumulative explained variance')\n",
        "plt.ylabel('Explained variance ratio')\n",
        "plt.xlabel('Principal component index')\n",
        "\n",
        "plt.axhline(y=0.95, color='r', linestyle='-')\n",
        "plt.text(0.5, 0.85, '95% cut-off threshold', color = 'red', fontsize=16)\n",
        "\n",
        "plt.legend(loc='best')\n",
        "plt.show()"
      ]
    },
    {
      "cell_type": "code",
      "execution_count": null,
      "metadata": {
        "id": "tQUebb7zcWSa"
      },
      "outputs": [],
      "source": [
        "pca_all = PCA(n_components=6)# choosing the number of dimentions\n",
        "\n",
        "# fit and transform data\n",
        "X_train_pca_all = pca_all.fit_transform(train_data_rescaled)\n",
        "X_test_pca_all = pca_all.transform(test_data_rescaled)\n",
        "X_batch_pca_all = pca_all.transform(batch_data_rescaled)\n"
      ]
    },
    {
      "cell_type": "code",
      "execution_count": null,
      "metadata": {
        "colab": {
          "base_uri": "https://localhost:8080/"
        },
        "id": "5wAwm7bWcWSa",
        "outputId": "dccb9bdb-729a-4884-9320-34ce23cc3059"
      },
      "outputs": [
        {
          "name": "stdout",
          "output_type": "stream",
          "text": [
            "         FSC_A     FSC_H     FSC_W     SSC_A     SSC_H     SSC_W  \\\n",
            "PC-1  0.214559  0.202998  0.130190  0.537400  0.436926  0.175334   \n",
            "PC-2  0.445834  0.487964  0.136856  0.192526  0.094088  0.227627   \n",
            "PC-3  0.352497  0.515605  0.153952  0.299675  0.139343  0.372931   \n",
            "PC-4  0.093573  0.183113  0.134185  0.154632  0.038557  0.280331   \n",
            "PC-5  0.025709  0.112369  0.291601  0.003547  0.166164  0.429356   \n",
            "PC-6  0.202379  0.097404  0.312627  0.341459  0.483091  0.430258   \n",
            "\n",
            "      normalized_BV421_A  normalized_FITC_A  normalized_PE_Texas_Red_A  \\\n",
            "PC-1            0.168650           0.148060                   0.419891   \n",
            "PC-2            0.044820           0.092942                   0.396663   \n",
            "PC-3            0.194167           0.151795                   0.003925   \n",
            "PC-4            0.020193           0.033000                   0.711789   \n",
            "PC-5            0.547434           0.514176                   0.325749   \n",
            "PC-6            0.266174           0.441716                   0.107736   \n",
            "\n",
            "      normalized_Alexa_Fluor_700_A  normalized_PerCP_A  \n",
            "PC-1                      0.339076            0.209083  \n",
            "PC-2                      0.475831            0.228598  \n",
            "PC-3                      0.525743            0.027080  \n",
            "PC-4                      0.572173            0.014229  \n",
            "PC-5                      0.093981            0.103471  \n",
            "PC-6                      0.059784            0.188637  \n"
          ]
        }
      ],
      "source": [
        "# How much each original feature contribute to the components\n",
        "print(pd.DataFrame(np.abs(pca_all.components_),columns=X_train_all.columns ,index = ['PC-1', 'PC-2', 'PC-3', 'PC-4', 'PC-5', 'PC-6']))"
      ]
    },
    {
      "cell_type": "code",
      "execution_count": null,
      "metadata": {
        "colab": {
          "base_uri": "https://localhost:8080/"
        },
        "id": "A21Nd09wcWSa",
        "outputId": "bb6d82df-d65d-4049-fd7c-66e4ec202e96"
      },
      "outputs": [
        {
          "name": "stdout",
          "output_type": "stream",
          "text": [
            "     0                             1\n",
            "0  PC1                         SSC_A\n",
            "1  PC2                         FSC_H\n",
            "2  PC3  normalized_Alexa_Fluor_700_A\n",
            "3  PC4     normalized_PE_Texas_Red_A\n",
            "4  PC5            normalized_BV421_A\n",
            "5  PC6                         SSC_H\n"
          ]
        }
      ],
      "source": [
        "# printing the most contributing original feature for each component\n",
        "most_important = np.abs(pca_all.components_).argmax(axis=1)\n",
        "initial_feature_names = X_train_all.columns\n",
        "most_important_names = initial_feature_names[most_important]\n",
        "dic = {'PC{}'.format(i+1): most_important_names[i] for i in range(6)}\n",
        "pca_results = pd.DataFrame(dic.items())\n",
        "print(pca_results)"
      ]
    },
    {
      "cell_type": "markdown",
      "source": [
        "random forest"
      ],
      "metadata": {
        "id": "A2Ky_nbmdjZA"
      }
    },
    {
      "cell_type": "code",
      "execution_count": null,
      "metadata": {
        "colab": {
          "base_uri": "https://localhost:8080/"
        },
        "id": "UY3m69aOcWSa",
        "outputId": "2f69def7-10d7-4cb3-8b14-a297d5c1d898"
      },
      "outputs": [
        {
          "name": "stdout",
          "output_type": "stream",
          "text": [
            "Random Forest Score: 0.91313\n"
          ]
        }
      ],
      "source": [
        "# training the model and evaluating its performance on the testing data\n",
        "my_model_rf_PCA_all = random_forest_all.fit(X_train_pca_all, y_train_all)\n",
        "print ('Random Forest Score: {0:2.5f}'.format(my_model_rf_PCA_all.score(X_test_pca_all, y_test_all)))"
      ]
    },
    {
      "cell_type": "code",
      "execution_count": null,
      "metadata": {
        "colab": {
          "base_uri": "https://localhost:8080/"
        },
        "id": "_SSDY1xlcWSb",
        "outputId": "1d69373b-e3ec-4e98-d0ec-4fe1cdc0f54e"
      },
      "outputs": [
        {
          "data": {
            "text/plain": [
              "0.7433247504497196"
            ]
          },
          "execution_count": 56,
          "metadata": {},
          "output_type": "execute_result"
        }
      ],
      "source": [
        "# evaluating the model performance on the Batch data\n",
        "pred_random_forest_all_PCA_batch = my_model_rf_PCA_all.predict(X_batch_pca_all)\n",
        "accuracy = accuracy_score(pred_random_forest_all_PCA_batch.astype(int), target_batch.astype(int))\n",
        "accuracy"
      ]
    },
    {
      "cell_type": "markdown",
      "source": [
        "XGBoost"
      ],
      "metadata": {
        "id": "DhPnxYO7dnh1"
      }
    },
    {
      "cell_type": "code",
      "execution_count": null,
      "metadata": {
        "colab": {
          "base_uri": "https://localhost:8080/"
        },
        "id": "jA0nnPw6cWSb",
        "outputId": "f4c33b49-35db-4689-85af-3890d9c2f85b"
      },
      "outputs": [
        {
          "name": "stdout",
          "output_type": "stream",
          "text": [
            "xgboost Score: 0.90905\n"
          ]
        }
      ],
      "source": [
        "# training the model and evaluating its performance on the testing data\n",
        "my_model_xgboost_PCA_all = xgboost_classification.fit(X_train_pca_all, y_train_all)\n",
        "print ('xgboost Score: {0:2.5f}'.format(my_model_xgboost_PCA_all.score(X_test_pca_all, y_test_all)))"
      ]
    },
    {
      "cell_type": "code",
      "execution_count": null,
      "metadata": {
        "colab": {
          "base_uri": "https://localhost:8080/"
        },
        "id": "etK9broRcWSb",
        "outputId": "047b85d7-cb7f-4162-8c8a-97c60139ca70"
      },
      "outputs": [
        {
          "data": {
            "text/plain": [
              "0.8060562237663574"
            ]
          },
          "execution_count": 58,
          "metadata": {},
          "output_type": "execute_result"
        }
      ],
      "source": [
        "# evaluating the model performance on the Batch data\n",
        "pred_xgboost_all_PCA_batch = my_model_xgboost_PCA_all.predict(X_batch_pca_all)\n",
        "accuracy = accuracy_score(pred_xgboost_all_PCA_batch.astype(int), target_batch.astype(int))\n",
        "accuracy"
      ]
    },
    {
      "cell_type": "markdown",
      "source": [
        "SVM"
      ],
      "metadata": {
        "id": "AeKRJgmFdrWd"
      }
    },
    {
      "cell_type": "code",
      "execution_count": null,
      "metadata": {
        "colab": {
          "base_uri": "https://localhost:8080/"
        },
        "id": "4CvlTEr5cWSb",
        "outputId": "24a5203f-2fd1-4c3b-f078-8ac54779349b"
      },
      "outputs": [
        {
          "name": "stdout",
          "output_type": "stream",
          "text": [
            "xgboost Score: 0.89914\n"
          ]
        }
      ],
      "source": [
        "# training the model and evaluating its performance on the testing data\n",
        "my_model_SVM_PCA_all = SVM_all.fit(X_train_pca_all, y_train_all)\n",
        "print ('xgboost Score: {0:2.5f}'.format(my_model_SVM_PCA_all.score(X_test_pca_all, y_test_all)))"
      ]
    },
    {
      "cell_type": "code",
      "execution_count": null,
      "metadata": {
        "colab": {
          "base_uri": "https://localhost:8080/"
        },
        "id": "lOWkNo2FcWSb",
        "outputId": "57b38028-aec6-4621-e481-5a9f14419e1a"
      },
      "outputs": [
        {
          "data": {
            "text/plain": [
              "0.7415611442277168"
            ]
          },
          "execution_count": 60,
          "metadata": {},
          "output_type": "execute_result"
        }
      ],
      "source": [
        "# evaluating the model performance on the Batch data\n",
        "pred_SVM_all_PCA_batch = my_model_SVM_PCA_all.predict(X_batch_pca_all)\n",
        "accuracy = accuracy_score(pred_SVM_all_PCA_batch.astype(int), target_batch.astype(int))\n",
        "accuracy"
      ]
    },
    {
      "cell_type": "markdown",
      "source": [
        "We calculated the p-value between the All and physiological models. In this analysis, we computed the differences between the probabilities and the true value. As the probability approaches the true value, the difference tends to zero. Than we apply the t-test on the residuals.\n"
      ],
      "metadata": {
        "id": "qOYcIfHoYEUi"
      }
    },
    {
      "cell_type": "code",
      "execution_count": null,
      "metadata": {
        "id": "ayiyexGxboeY"
      },
      "outputs": [],
      "source": [
        "# opening the saved models\n",
        "\n",
        "model_name = 'H460_groupkfold_single_rf_phys'\n",
        "a_file = open(data_path+model_name+'.pkl', \"rb\")\n",
        "my_model_single_rf_phys = pickle.load(a_file)\n",
        "a_file.close()"
      ]
    },
    {
      "cell_type": "code",
      "source": [
        "# t-test analysis between models using the probabity prediction of each sample\n",
        "import scipy.stats as stats\n",
        "\n",
        "prob_df_phys= pd.DataFrame()\n",
        "prob_df_all= pd.DataFrame()\n",
        "\n",
        "prob_phys = my_model_single_rf_phys.predict_proba(X_test_phys)[:,1]# getting the probabilities of the physiological based analysis\n",
        "prob_all = my_model_single_rf_all.predict_proba(X_test_all)[:,1]# getting the probabilities of the all features based analysis\n",
        "\n",
        "# adding the probabilities to the dataframes\n",
        "prob_df_phys['probs_phys'], prob_df_phys['True_phys'] = prob_phys, y_test_phys\n",
        "prob_df_all['probs_all'], prob_df_all['True_all'] = prob_all, y_test_all\n",
        "\n",
        "# calculating the distance between the probability to the label value (0 or 1)\n",
        "prob_res_phys = abs(prob_phys - y_test_phys)\n",
        "prob_res_all = abs(prob_all - y_test_all)\n",
        "\n",
        "prob_res_phys = prob_res_phys.reset_index()\n",
        "prob_res_all = prob_res_all.reset_index()\n",
        "\n",
        "# perform the t-test on the distances\n",
        "t_stat, p_value = stats.ttest_ind(prob_res_phys, prob_res_all)\n",
        "print (t_stat, p_value)"
      ],
      "metadata": {
        "id": "0vwjwQJOYKqS"
      },
      "execution_count": null,
      "outputs": []
    },
    {
      "cell_type": "markdown",
      "metadata": {
        "id": "K8jKRtpGNQqp"
      },
      "source": [
        "## ROC curve"
      ]
    },
    {
      "cell_type": "markdown",
      "source": [
        "ROC curve and AUC values calculation between the different features-based random forest and XGBoost models"
      ],
      "metadata": {
        "id": "3L-GoeWzd5fV"
      }
    },
    {
      "cell_type": "code",
      "execution_count": null,
      "metadata": {
        "id": "qff7Fn9i5Jfj",
        "colab": {
          "base_uri": "https://localhost:8080/"
        },
        "outputId": "ca03dda2-d31c-4338-e9ae-9ef69e50dea4"
      },
      "outputs": [
        {
          "output_type": "stream",
          "name": "stderr",
          "text": [
            "/usr/local/lib/python3.10/dist-packages/sklearn/base.py:318: UserWarning: Trying to unpickle estimator DecisionTreeClassifier from version 1.0.2 when using version 1.2.2. This might lead to breaking code or invalid results. Use at your own risk. For more info please refer to:\n",
            "https://scikit-learn.org/stable/model_persistence.html#security-maintainability-limitations\n",
            "  warnings.warn(\n",
            "/usr/local/lib/python3.10/dist-packages/sklearn/base.py:318: UserWarning: Trying to unpickle estimator RandomForestClassifier from version 1.0.2 when using version 1.2.2. This might lead to breaking code or invalid results. Use at your own risk. For more info please refer to:\n",
            "https://scikit-learn.org/stable/model_persistence.html#security-maintainability-limitations\n",
            "  warnings.warn(\n",
            "/usr/local/lib/python3.10/dist-packages/xgboost/core.py:160: UserWarning: [15:28:28] WARNING: /workspace/src/common/error_msg.h:80: If you are loading a serialized model (like pickle in Python, RDS in R) or\n",
            "configuration generated by an older version of XGBoost, please export the model by calling\n",
            "`Booster.save_model` from that version first, then load it back in current version. See:\n",
            "\n",
            "    https://xgboost.readthedocs.io/en/stable/tutorials/saving_model.html\n",
            "\n",
            "for more details about differences between saving model and serializing.\n",
            "\n",
            "  warnings.warn(smsg, UserWarning)\n",
            "/usr/local/lib/python3.10/dist-packages/sklearn/base.py:318: UserWarning: Trying to unpickle estimator SVC from version 1.0.2 when using version 1.2.2. This might lead to breaking code or invalid results. Use at your own risk. For more info please refer to:\n",
            "https://scikit-learn.org/stable/model_persistence.html#security-maintainability-limitations\n",
            "  warnings.warn(\n"
          ]
        }
      ],
      "source": [
        "## opening the saved models\n",
        "\n",
        "# RF\n",
        "model_name = 'H460_groupkfold_single_rf_phys_no_nps'\n",
        "a_file = open('/content/drive/MyDrive/H460/'+model_name+'.pkl', \"rb\")\n",
        "my_model_single_rf_phys_no_nps = pickle.load(a_file)\n",
        "a_file.close()\n",
        "\n",
        "# xgboost\n",
        "model_name = 'H460_groupkfold_single_xgboost_phys_no_nps'\n",
        "a_file = open('/content/drive/MyDrive/H460/'+model_name+'.pkl', \"rb\")\n",
        "my_model_single_xgboost_phys_no_nps = pickle.load(a_file)\n",
        "a_file.close()"
      ]
    },
    {
      "cell_type": "code",
      "source": [
        "from sklearn.metrics import roc_curve, auc, precision_recall_curve, classification_report, average_precision_score\n",
        "from sklearn.metrics import roc_auc_score\n",
        "from matplotlib import pyplot\n",
        "from sklearn import metrics\n",
        "sns.set_style('white')"
      ],
      "metadata": {
        "id": "iQMBDlw5e-Wb"
      },
      "execution_count": null,
      "outputs": []
    },
    {
      "cell_type": "code",
      "execution_count": null,
      "metadata": {
        "id": "tinBg-K45hJj"
      },
      "outputs": [],
      "source": [
        "# preparing the data\n",
        "X_test_single_no_nps = pd.read_csv(data_path + 'X_test_single_no_nps.csv')\n",
        "y_test_single_no_nps = pd.read_csv(data_path + 'y_test_single_no_nps.csv')\n",
        "\n",
        "X_test_single_no_nps.drop('Unnamed: 0', axis = 1, inplace = True)\n",
        "y_test_single_no_nps.drop('Unnamed: 0', axis = 1, inplace = True)"
      ]
    },
    {
      "cell_type": "markdown",
      "source": [
        "Random forest"
      ],
      "metadata": {
        "id": "U2FRF1OQfOun"
      }
    },
    {
      "cell_type": "code",
      "execution_count": null,
      "metadata": {
        "id": "Gzc-53lJNQqp",
        "colab": {
          "base_uri": "https://localhost:8080/",
          "height": 218
        },
        "outputId": "cfd50825-7b57-4697-d182-7785890f4ffe"
      },
      "outputs": [
        {
          "output_type": "error",
          "ename": "NameError",
          "evalue": "name 'my_model_single_rf_phys_no_bins' is not defined",
          "traceback": [
            "\u001b[0;31m---------------------------------------------------------------------------\u001b[0m",
            "\u001b[0;31mNameError\u001b[0m                                 Traceback (most recent call last)",
            "\u001b[0;32m<ipython-input-8-89f90a4edfa0>\u001b[0m in \u001b[0;36m<cell line: 1>\u001b[0;34m()\u001b[0m\n\u001b[0;32m----> 1\u001b[0;31m \u001b[0mpred_prob_1\u001b[0m \u001b[0;34m=\u001b[0m \u001b[0mmy_model_single_rf_phys_no_bins\u001b[0m\u001b[0;34m.\u001b[0m\u001b[0mpredict_proba\u001b[0m\u001b[0;34m(\u001b[0m\u001b[0mX_test_phys\u001b[0m\u001b[0;34m)\u001b[0m\u001b[0;34m\u001b[0m\u001b[0;34m\u001b[0m\u001b[0m\n\u001b[0m\u001b[1;32m      2\u001b[0m \u001b[0mpred_prob_2\u001b[0m \u001b[0;34m=\u001b[0m \u001b[0mmy_model_single_rf_uptake\u001b[0m\u001b[0;34m.\u001b[0m\u001b[0mpredict_proba\u001b[0m\u001b[0;34m(\u001b[0m\u001b[0mX_test_uptake\u001b[0m\u001b[0;34m)\u001b[0m\u001b[0;34m\u001b[0m\u001b[0;34m\u001b[0m\u001b[0m\n\u001b[1;32m      3\u001b[0m \u001b[0mpred_prob_3\u001b[0m \u001b[0;34m=\u001b[0m \u001b[0mmy_model_single_rf_all\u001b[0m\u001b[0;34m.\u001b[0m\u001b[0mpredict_proba\u001b[0m\u001b[0;34m(\u001b[0m\u001b[0mX_test_all\u001b[0m\u001b[0;34m)\u001b[0m\u001b[0;34m\u001b[0m\u001b[0;34m\u001b[0m\u001b[0m\n\u001b[1;32m      4\u001b[0m \u001b[0mpred_prob_4\u001b[0m \u001b[0;34m=\u001b[0m \u001b[0mmy_model_single_rf_phys_no_nps\u001b[0m\u001b[0;34m.\u001b[0m\u001b[0mpredict_proba\u001b[0m\u001b[0;34m(\u001b[0m\u001b[0mX_test_single_no_nps\u001b[0m\u001b[0;34m)\u001b[0m\u001b[0;34m\u001b[0m\u001b[0;34m\u001b[0m\u001b[0m\n",
            "\u001b[0;31mNameError\u001b[0m: name 'my_model_single_rf_phys_no_bins' is not defined"
          ]
        }
      ],
      "source": [
        "# getting the probabilities (testing data)\n",
        "pred_prob_1 = my_model_single_rf_phys_no_bins.predict_proba(X_test_phys)\n",
        "pred_prob_2 = my_model_single_rf_uptake.predict_proba(X_test_uptake)\n",
        "pred_prob_3 = my_model_single_rf_all.predict_proba(X_test_all)\n",
        "pred_prob_4 = my_model_single_rf_phys_no_nps.predict_proba(X_test_single_no_nps)"
      ]
    },
    {
      "cell_type": "code",
      "execution_count": null,
      "metadata": {
        "colab": {
          "base_uri": "https://localhost:8080/",
          "height": 659
        },
        "id": "Qij43FPNNQqp",
        "outputId": "38ef47d4-7fa0-4910-c9c9-ec93849834ac"
      },
      "outputs": [
        {
          "data": {
            "image/png": "[encoded data removed]",
            "text/plain": [
              "<Figure size 864x720 with 1 Axes>"
            ]
          },
          "metadata": {},
          "output_type": "display_data"
        }
      ],
      "source": [
        "# ploting Roc curve\n",
        "\n",
        "fig, ax = plt.subplots(figsize=(12,10))\n",
        "\n",
        "false_positive_rate_1, true_positive_rate_1, threshold_1 = roc_curve(y_test_phys, pred_prob_1[:,0], pos_label = 0)\n",
        "false_positive_rate_2, true_positive_rate_2, threshold_2 = roc_curve(y_test_uptake, pred_prob_2[:,0], pos_label = 0)\n",
        "false_positive_rate_3, true_positive_rate_3, threshold_3 = roc_curve(y_test_all, pred_prob_3[:,0], pos_label = 0)\n",
        "false_positive_rate_4, true_positive_rate_4, threshold_4 = roc_curve(y_test_single_no_nps, pred_prob_4[:,0], pos_label = 0)\n",
        "\n",
        "#AUC\n",
        "auc_1 = metrics.roc_auc_score(y_test_phys, pred_prob_1[:,1])\n",
        "auc_2 = metrics.roc_auc_score(y_test_uptake, pred_prob_2[:,1])\n",
        "auc_3 = metrics.roc_auc_score(y_test_all, pred_prob_3[:,1])\n",
        "auc_4 = metrics.roc_auc_score(y_test_single_no_nps, pred_prob_4[:,1])\n",
        "\n",
        "\n",
        "# plot roc curves\n",
        "plt.plot(false_positive_rate_1, true_positive_rate_1, linestyle='--',color='orange', label='Physiological (AUC = %0.2f)' % auc_1)\n",
        "plt.plot(false_positive_rate_2, true_positive_rate_2, linestyle='--',color='green', label='Uptake (AUC = %0.2f)' % auc_2)\n",
        "plt.plot(false_positive_rate_3, true_positive_rate_3, linestyle='--',color='red', label='All (AUC = %0.2f)' % auc_3)\n",
        "plt.plot(false_positive_rate_4, true_positive_rate_4, linestyle='--',color='blue', label='No NPs (AUC = %0.2f)' % auc_4)\n",
        "\n",
        "plt.plot([0, 1], ls=\"--\", color = 'black', label = 'ROC curve for chance level (AUC = 0.5)')\n",
        "# title\n",
        "plt.title('H460 Single Cells ROC curve - Random Forest', size = 28, weight = 'bold')\n",
        "# x label\n",
        "plt.xlabel('False Positive Rate', size = 26, weight = 'bold')\n",
        "# y label\n",
        "plt.ylabel('True Positive Rate', size = 26, weight = 'bold')\n",
        "plt.xticks(fontsize = 20)\n",
        "plt.yticks(fontsize = 20)\n",
        "\n",
        "plt.legend(loc='lower right', fontsize = 16)\n",
        "plt.savefig(data_path +'H460_RF_single_ROC',dpi=300)\n",
        "plt.show();"
      ]
    },
    {
      "cell_type": "markdown",
      "source": [
        "XGBoost"
      ],
      "metadata": {
        "id": "FbhbuObjfShK"
      }
    },
    {
      "cell_type": "code",
      "execution_count": null,
      "metadata": {
        "id": "cQyYd50MNQqp"
      },
      "outputs": [],
      "source": [
        "# getting the probabilities (testing data)\n",
        "pred_prob_4 = my_model_single_xgboost_phys_no_bins.predict_proba(X_test_phys)\n",
        "pred_prob_5 = my_model_single_xgboost_uptake.predict_proba(X_test_uptake)\n",
        "pred_prob_6 = my_model_single_xgboost_all.predict_proba(X_test_all)\n",
        "pred_prob_7 = my_model_single_xgboost_phys_no_nps.predict_proba(X_test_single_no_nps)"
      ]
    },
    {
      "cell_type": "code",
      "execution_count": null,
      "metadata": {
        "colab": {
          "base_uri": "https://localhost:8080/",
          "height": 659
        },
        "id": "ZdJPX0ZdNQqp",
        "outputId": "3142b451-0a1f-4053-f973-c522f1281819"
      },
      "outputs": [
        {
          "data": {
            "image/png": "[encoded data removed]",
            "text/plain": [
              "<Figure size 864x720 with 1 Axes>"
            ]
          },
          "metadata": {},
          "output_type": "display_data"
        }
      ],
      "source": [
        "# ploting Roc curve\n",
        "sns.set_style('white')\n",
        "fig, ax = plt.subplots(figsize=(12,10))\n",
        "\n",
        "false_positive_rate_4, true_positive_rate_4, threshold_4 = roc_curve(y_test_phys, pred_prob_4[:,0], pos_label = 0)\n",
        "false_positive_rate_5, true_positive_rate_5, threshold_5 = roc_curve(y_test_uptake, pred_prob_5[:,0], pos_label = 0)\n",
        "false_positive_rate_6, true_positive_rate_6, threshold_6 = roc_curve(y_test_all, pred_prob_6[:,0], pos_label = 0)\n",
        "false_positive_rate_7, true_positive_rate_7, threshold_7 = roc_curve(y_test_single_no_nps, pred_prob_7[:,0], pos_label = 0)\n",
        "\n",
        "auc_4 = metrics.roc_auc_score(y_test_phys, pred_prob_4[:,1])\n",
        "auc_5 = metrics.roc_auc_score(y_test_uptake, pred_prob_5[:,1])\n",
        "auc_6 = metrics.roc_auc_score(y_test_all, pred_prob_6[:,1])\n",
        "auc_7 = metrics.roc_auc_score(y_test_single_no_nps, pred_prob_7[:,1])\n",
        "\n",
        "# plot roc curves\n",
        "plt.plot(false_positive_rate_4, true_positive_rate_4, linestyle='--',linewidth = 3, color='orange', label='Physiological data (AUC = %0.2f)' % auc_4)\n",
        "plt.plot(false_positive_rate_5, true_positive_rate_5, linestyle='--',linewidth = 3,color='green', label='Uptake data (AUC = %0.2f)' % auc_5)\n",
        "plt.plot(false_positive_rate_6, true_positive_rate_6, linestyle='--',linewidth = 3,color='red', label='All data (AUC = %0.2f)' % auc_6)\n",
        "plt.plot(false_positive_rate_7, true_positive_rate_7, linestyle='--',linewidth = 3,color='blue', label='No NPs (AUC = %0.2f)'% auc_7)\n",
        "\n",
        "plt.plot([0, 1], ls=\"--\", color = 'black', linewidth = 3, label = 'Chance level (AUC = 0.5)')\n",
        "# title\n",
        "plt.title('H460 Single Cells ROC curve - XGboost', size = 28, weight = 'bold')\n",
        "# x label\n",
        "plt.xlabel('False Positive Rate', size = 26, weight = 'bold')\n",
        "# y label\n",
        "plt.ylabel('True Positive Rate', size = 26, weight = 'bold')\n",
        "plt.xticks(fontsize = 20)\n",
        "plt.yticks(fontsize = 20)\n",
        "\n",
        "plt.legend(loc='lower right', fontsize = 22)\n",
        "\n",
        "plt.savefig(data_path +'H460_XGboost_single_ROC',dpi=300)\n",
        "plt.show();"
      ]
    },
    {
      "cell_type": "code",
      "execution_count": null,
      "metadata": {
        "id": "640wT6BkNQqq"
      },
      "outputs": [],
      "source": []
    }
  ],
  "metadata": {
    "colab": {
      "provenance": [],
      "include_colab_link": true
    },
    "kernelspec": {
      "display_name": "Python 3",
      "language": "python",
      "name": "python3"
    },
    "language_info": {
      "codemirror_mode": {
        "name": "ipython",
        "version": 3
      },
      "file_extension": ".py",
      "mimetype": "text/x-python",
      "name": "python",
      "nbconvert_exporter": "python",
      "pygments_lexer": "ipython3",
      "version": "3.7.4"
    }
  },
  "nbformat": 4,
  "nbformat_minor": 0
}